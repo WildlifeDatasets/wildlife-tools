{
 "cells": [
  {
   "cell_type": "markdown",
   "id": "fe0d307d",
   "metadata": {},
   "source": [
    "# MegaDescriptor-S-224\n",
    "- Run inference with MegaDescriptor-S-224 (https://huggingface.co/BVRA/MegaDescriptor-S-224)"
   ]
  },
  {
   "cell_type": "code",
   "execution_count": null,
   "id": "904f6e6c",
   "metadata": {},
   "outputs": [],
   "source": [
    "import pandas as pd\n",
    "from torchvision import transforms as T\n",
    "from timm import create_model\n",
    "\n",
    "from wildlife_tools.features import DeepFeatures\n",
    "from wildlife_tools.data import WildlifeDataset\n",
    "from wildlife_tools.similarity import CosineSimilarity\n",
    "from wildlife_tools.inference import KnnClassifier\n",
    "\n",
    "\n",
    "datasets = [\n",
    "    'BirdIndividualID',\n",
    "    'SealID',\n",
    "    'FriesianCattle2015',\n",
    "    'ATRW',\n",
    "    'NDD20',\n",
    "    'SMALST',\n",
    "    'SeaTurtleIDHeads',\n",
    "    'AAUZebraFish',\n",
    "    'CZoo',\n",
    "    'CTai',\n",
    "    'Giraffes',\n",
    "    'HyenaID2022',\n",
    "    'MacaqueFaces',\n",
    "    'OpenCows2020',\n",
    "    'StripeSpotter',\n",
    "    'AerialCattle2017',\n",
    "    'GiraffeZebraID',\n",
    "    'IPanda50',\n",
    "    'WhaleSharkID',\n",
    "    'FriesianCattle2017',\n",
    "    'Cows2021',\n",
    "    'LeopardID2022',\n",
    "    'NOAARightWhale',\n",
    "    'HappyWhale',\n",
    "    'HumpbackWhaleID',\n",
    "    'LionData',\n",
    "    'NyalaData',\n",
    "    'ZindiTurtleRecall',\n",
    "    'BelugaID',\n",
    "    ]\n",
    "\n",
    "model = create_model(\"hf-hub:BVRA/MegaDescriptor-S-224\", pretrained=True)\n",
    "extractor = DeepFeatures(model, device='cuda')\n",
    "\n",
    "root_images = '../data/images/size-256'\n",
    "root_metadata = '../data/metadata/datasets'"
   ]
  },
  {
   "cell_type": "code",
   "execution_count": null,
   "id": "e4381543",
   "metadata": {},
   "outputs": [
    {
     "name": "stderr",
     "output_type": "stream",
     "text": [
      "100%|███████████████████████████████████████████████████████████████| 82/82 [02:55<00:00,  2.14s/it]\n",
      "100%|█████████████████████████████████████████████████████████████| 327/327 [11:24<00:00,  2.09s/it]\n"
     ]
    },
    {
     "name": "stdout",
     "output_type": "stream",
     "text": [
      "BirdIndividualID 0.9680566182096404\n"
     ]
    },
    {
     "name": "stderr",
     "output_type": "stream",
     "text": [
      "100%|█████████████████████████████████████████████████████████████████| 4/4 [00:07<00:00,  1.99s/it]\n",
      "100%|███████████████████████████████████████████████████████████████| 13/13 [00:27<00:00,  2.11s/it]\n"
     ]
    },
    {
     "name": "stdout",
     "output_type": "stream",
     "text": [
      "SealID 0.6330935251798561\n"
     ]
    },
    {
     "name": "stderr",
     "output_type": "stream",
     "text": [
      "100%|█████████████████████████████████████████████████████████████████| 1/1 [00:03<00:00,  3.05s/it]\n",
      "100%|█████████████████████████████████████████████████████████████████| 3/3 [00:09<00:00,  3.19s/it]\n"
     ]
    },
    {
     "name": "stdout",
     "output_type": "stream",
     "text": [
      "FriesianCattle2015 0.55\n"
     ]
    },
    {
     "name": "stderr",
     "output_type": "stream",
     "text": [
      "100%|█████████████████████████████████████████████████████████████████| 9/9 [00:23<00:00,  2.61s/it]\n",
      "100%|███████████████████████████████████████████████████████████████| 34/34 [01:06<00:00,  1.95s/it]\n"
     ]
    },
    {
     "name": "stdout",
     "output_type": "stream",
     "text": [
      "ATRW 0.933953488372093\n"
     ]
    },
    {
     "name": "stderr",
     "output_type": "stream",
     "text": [
      "100%|█████████████████████████████████████████████████████████████████| 5/5 [00:08<00:00,  1.79s/it]\n",
      "100%|███████████████████████████████████████████████████████████████| 17/17 [00:30<00:00,  1.79s/it]\n"
     ]
    },
    {
     "name": "stdout",
     "output_type": "stream",
     "text": [
      "NDD20 0.5856873822975518\n"
     ]
    },
    {
     "name": "stderr",
     "output_type": "stream",
     "text": [
      "100%|███████████████████████████████████████████████████████████████| 21/21 [00:48<00:00,  2.32s/it]\n",
      "100%|███████████████████████████████████████████████████████████████| 81/81 [03:09<00:00,  2.34s/it]\n"
     ]
    },
    {
     "name": "stdout",
     "output_type": "stream",
     "text": [
      "SMALST 1.0\n"
     ]
    },
    {
     "name": "stderr",
     "output_type": "stream",
     "text": [
      "100%|███████████████████████████████████████████████████████████████| 12/12 [00:20<00:00,  1.71s/it]\n",
      "100%|███████████████████████████████████████████████████████████████| 48/48 [01:15<00:00,  1.58s/it]\n"
     ]
    },
    {
     "name": "stdout",
     "output_type": "stream",
     "text": [
      "SeaTurtleIDHeads 0.837393021724819\n"
     ]
    },
    {
     "name": "stderr",
     "output_type": "stream",
     "text": [
      "100%|███████████████████████████████████████████████████████████████| 11/11 [00:39<00:00,  3.56s/it]\n",
      "100%|███████████████████████████████████████████████████████████████| 42/42 [02:28<00:00,  3.55s/it]\n"
     ]
    },
    {
     "name": "stdout",
     "output_type": "stream",
     "text": [
      "AAUZebraFish 0.9955056179775281\n"
     ]
    },
    {
     "name": "stderr",
     "output_type": "stream",
     "text": [
      "100%|█████████████████████████████████████████████████████████████████| 4/4 [00:08<00:00,  2.21s/it]\n",
      "100%|███████████████████████████████████████████████████████████████| 14/14 [00:30<00:00,  2.20s/it]\n"
     ]
    },
    {
     "name": "stdout",
     "output_type": "stream",
     "text": [
      "CZoo 0.9810874704491725\n"
     ]
    },
    {
     "name": "stderr",
     "output_type": "stream",
     "text": [
      "100%|█████████████████████████████████████████████████████████████████| 8/8 [00:17<00:00,  2.20s/it]\n",
      "100%|███████████████████████████████████████████████████████████████| 30/30 [01:07<00:00,  2.24s/it]\n"
     ]
    },
    {
     "name": "stdout",
     "output_type": "stream",
     "text": [
      "CTai 0.8745980707395499\n"
     ]
    },
    {
     "name": "stderr",
     "output_type": "stream",
     "text": [
      "100%|█████████████████████████████████████████████████████████████████| 3/3 [00:04<00:00,  1.44s/it]\n",
      "100%|█████████████████████████████████████████████████████████████████| 9/9 [00:15<00:00,  1.75s/it]\n"
     ]
    },
    {
     "name": "stdout",
     "output_type": "stream",
     "text": [
      "Giraffes 0.8097014925373134\n"
     ]
    },
    {
     "name": "stderr",
     "output_type": "stream",
     "text": [
      "100%|█████████████████████████████████████████████████████████████████| 5/5 [00:09<00:00,  1.98s/it]\n",
      "100%|███████████████████████████████████████████████████████████████| 20/20 [00:35<00:00,  1.77s/it]\n"
     ]
    },
    {
     "name": "stdout",
     "output_type": "stream",
     "text": [
      "HyenaID2022 0.6666666666666666\n"
     ]
    },
    {
     "name": "stderr",
     "output_type": "stream",
     "text": [
      "100%|███████████████████████████████████████████████████████████████| 10/10 [00:17<00:00,  1.72s/it]\n",
      "100%|███████████████████████████████████████████████████████████████| 40/40 [01:02<00:00,  1.55s/it]\n"
     ]
    },
    {
     "name": "stdout",
     "output_type": "stream",
     "text": [
      "MacaqueFaces 0.9888535031847133\n"
     ]
    },
    {
     "name": "stderr",
     "output_type": "stream",
     "text": [
      "100%|█████████████████████████████████████████████████████████████████| 8/8 [00:15<00:00,  1.96s/it]\n",
      "100%|███████████████████████████████████████████████████████████████| 30/30 [01:00<00:00,  2.01s/it]\n"
     ]
    },
    {
     "name": "stdout",
     "output_type": "stream",
     "text": [
      "OpenCows2020 0.9957761351636748\n"
     ]
    },
    {
     "name": "stderr",
     "output_type": "stream",
     "text": [
      "100%|█████████████████████████████████████████████████████████████████| 2/2 [00:03<00:00,  1.59s/it]\n",
      "100%|█████████████████████████████████████████████████████████████████| 6/6 [00:12<00:00,  2.02s/it]\n"
     ]
    },
    {
     "name": "stdout",
     "output_type": "stream",
     "text": [
      "StripeSpotter 0.9451219512195121\n"
     ]
    },
    {
     "name": "stderr",
     "output_type": "stream",
     "text": [
      "100%|███████████████████████████████████████████████████████████████| 73/73 [02:19<00:00,  1.92s/it]\n",
      "100%|█████████████████████████████████████████████████████████████| 290/290 [08:50<00:00,  1.83s/it]\n"
     ]
    },
    {
     "name": "stdout",
     "output_type": "stream",
     "text": [
      "AerialCattle2017 1.0\n"
     ]
    },
    {
     "name": "stderr",
     "output_type": "stream",
     "text": [
      "100%|███████████████████████████████████████████████████████████████| 12/12 [00:22<00:00,  1.87s/it]\n",
      "100%|███████████████████████████████████████████████████████████████| 43/43 [01:22<00:00,  1.92s/it]\n"
     ]
    },
    {
     "name": "stdout",
     "output_type": "stream",
     "text": [
      "GiraffeZebraID 0.6839654025282768\n"
     ]
    },
    {
     "name": "stderr",
     "output_type": "stream",
     "text": [
      "100%|███████████████████████████████████████████████████████████████| 11/11 [00:19<00:00,  1.77s/it]\n",
      "100%|███████████████████████████████████████████████████████████████| 43/43 [01:15<00:00,  1.75s/it]\n"
     ]
    },
    {
     "name": "stdout",
     "output_type": "stream",
     "text": [
      "IPanda50 0.7985454545454546\n"
     ]
    },
    {
     "name": "stderr",
     "output_type": "stream",
     "text": [
      "100%|███████████████████████████████████████████████████████████████| 13/13 [00:23<00:00,  1.84s/it]\n",
      "100%|███████████████████████████████████████████████████████████████| 48/48 [01:29<00:00,  1.86s/it]\n"
     ]
    },
    {
     "name": "stdout",
     "output_type": "stream",
     "text": [
      "WhaleSharkID 0.32744479495268136\n"
     ]
    },
    {
     "name": "stderr",
     "output_type": "stream",
     "text": [
      "100%|█████████████████████████████████████████████████████████████████| 2/2 [00:04<00:00,  2.13s/it]\n",
      "100%|█████████████████████████████████████████████████████████████████| 6/6 [00:11<00:00,  1.86s/it]\n"
     ]
    },
    {
     "name": "stdout",
     "output_type": "stream",
     "text": [
      "FriesianCattle2017 0.9646464646464646\n"
     ]
    },
    {
     "name": "stderr",
     "output_type": "stream",
     "text": [
      "100%|███████████████████████████████████████████████████████████████| 14/14 [00:30<00:00,  2.16s/it]\n",
      "100%|███████████████████████████████████████████████████████████████| 55/55 [01:54<00:00,  2.08s/it]\n"
     ]
    },
    {
     "name": "stdout",
     "output_type": "stream",
     "text": [
      "Cows2021 0.9873125720876585\n"
     ]
    },
    {
     "name": "stderr",
     "output_type": "stream",
     "text": [
      "100%|███████████████████████████████████████████████████████████████| 12/12 [00:23<00:00,  1.98s/it]\n",
      "100%|███████████████████████████████████████████████████████████████| 42/42 [01:20<00:00,  1.92s/it]\n"
     ]
    },
    {
     "name": "stdout",
     "output_type": "stream",
     "text": [
      "LeopardID2022 0.6727145847871598\n"
     ]
    },
    {
     "name": "stderr",
     "output_type": "stream",
     "text": [
      "100%|█████████████████████████████████████████████████████████████████| 8/8 [00:15<00:00,  1.97s/it]\n",
      "100%|███████████████████████████████████████████████████████████████| 29/29 [00:56<00:00,  1.94s/it]\n"
     ]
    },
    {
     "name": "stdout",
     "output_type": "stream",
     "text": [
      "NOAARightWhale 0.2494646680942184\n"
     ]
    },
    {
     "name": "stderr",
     "output_type": "stream",
     "text": [
      "100%|███████████████████████████████████████████████████████████████| 84/84 [03:03<00:00,  2.18s/it]\n",
      "100%|█████████████████████████████████████████████████████████████| 316/316 [10:32<00:00,  2.00s/it]\n"
     ]
    },
    {
     "name": "stdout",
     "output_type": "stream",
     "text": [
      "HappyWhale 0.14976072065309187\n"
     ]
    },
    {
     "name": "stderr",
     "output_type": "stream",
     "text": [
      "100%|███████████████████████████████████████████████████████████████| 30/30 [01:07<00:00,  2.24s/it]\n",
      "100%|███████████████████████████████████████████████████████████████| 94/94 [02:37<00:00,  1.67s/it]\n"
     ]
    },
    {
     "name": "stdout",
     "output_type": "stream",
     "text": [
      "HumpbackWhaleID 0.3624699278267843\n"
     ]
    },
    {
     "name": "stderr",
     "output_type": "stream",
     "text": [
      "100%|█████████████████████████████████████████████████████████████████| 2/2 [00:02<00:00,  1.50s/it]\n",
      "100%|█████████████████████████████████████████████████████████████████| 5/5 [00:09<00:00,  1.97s/it]\n"
     ]
    },
    {
     "name": "stdout",
     "output_type": "stream",
     "text": [
      "LionData 0.16129032258064516\n"
     ]
    },
    {
     "name": "stderr",
     "output_type": "stream",
     "text": [
      "100%|█████████████████████████████████████████████████████████████████| 4/4 [00:04<00:00,  1.24s/it]\n",
      "100%|███████████████████████████████████████████████████████████████| 12/12 [00:16<00:00,  1.34s/it]\n"
     ]
    },
    {
     "name": "stdout",
     "output_type": "stream",
     "text": [
      "NyalaData 0.14953271028037382\n"
     ]
    },
    {
     "name": "stderr",
     "output_type": "stream",
     "text": [
      "100%|███████████████████████████████████████████████████████████████| 25/25 [00:32<00:00,  1.29s/it]\n",
      "100%|███████████████████████████████████████████████████████████████| 76/76 [01:34<00:00,  1.24s/it]\n"
     ]
    },
    {
     "name": "stdout",
     "output_type": "stream",
     "text": [
      "ZindiTurtleRecall 0.3838416612589228\n"
     ]
    },
    {
     "name": "stderr",
     "output_type": "stream",
     "text": [
      "100%|███████████████████████████████████████████████████████████████| 10/10 [00:20<00:00,  2.07s/it]\n",
      "100%|███████████████████████████████████████████████████████████████| 37/37 [01:07<00:00,  1.82s/it]\n"
     ]
    },
    {
     "name": "stdout",
     "output_type": "stream",
     "text": [
      "BelugaID 0.3884103367267032\n"
     ]
    }
   ],
   "source": [
    "results = {}\n",
    "for name in datasets:\n",
    "    metadata = pd.read_csv(f'{root_metadata}/{name}/metadata.csv', index_col=0)\n",
    "\n",
    "    transform = T.Compose([\n",
    "        T.Resize(size=(224, 224)),\n",
    "        T.ToTensor(),\n",
    "        T.Normalize(mean=(0.485, 0.456, 0.406), std=(0.229, 0.224, 0.225)),\n",
    "    ])\n",
    "\n",
    "    database = WildlifeDataset(\n",
    "        metadata=metadata.query('split == \"train\"'),\n",
    "        root=f'{root_images}/{name}/',\n",
    "        transform=transform,\n",
    "    )\n",
    "\n",
    "    query = WildlifeDataset(\n",
    "        metadata=metadata.query('split == \"test\"'),\n",
    "        root=f'{root_images}/{name}/',\n",
    "        transform=transform,\n",
    "    )\n",
    "\n",
    "\n",
    "    matcher = CosineSimilarity()\n",
    "    similarity = matcher(query=extractor(query), database=extractor(database))\n",
    "    preds = KnnClassifier(k=1, database_labels=database.labels_string)(similarity['cosine'])\n",
    "    \n",
    "    acc = sum(preds == query.labels_string) / len(preds)\n",
    "    print(name, acc)\n",
    "    results[name] = acc\n",
    "\n",
    "\n",
    "pd.Series(results).to_csv('results/MegaDescriptor-S-224.csv')"
   ]
  },
  {
   "cell_type": "code",
   "execution_count": null,
   "id": "af5b20df",
   "metadata": {},
   "outputs": [],
   "source": []
  }
 ],
 "metadata": {
  "kernelspec": {
   "display_name": "Python 3 (ipykernel)",
   "language": "python",
   "name": "python3"
  },
  "language_info": {
   "codemirror_mode": {
    "name": "ipython",
    "version": 3
   },
   "file_extension": ".py",
   "mimetype": "text/x-python",
   "name": "python",
   "nbconvert_exporter": "python",
   "pygments_lexer": "ipython3",
   "version": "3.10.4"
  }
 },
 "nbformat": 4,
 "nbformat_minor": 5
}
