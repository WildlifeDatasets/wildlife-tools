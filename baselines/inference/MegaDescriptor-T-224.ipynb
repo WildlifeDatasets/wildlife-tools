{
 "cells": [
  {
   "cell_type": "markdown",
   "id": "c2612220",
   "metadata": {},
   "source": [
    "# MegaDescriptor-T-224\n",
    "- Run inference with MegaDescriptor-T-224 (https://huggingface.co/BVRA/MegaDescriptor-T-224)"
   ]
  },
  {
   "cell_type": "code",
   "execution_count": null,
   "id": "d9b9045c",
   "metadata": {},
   "outputs": [],
   "source": [
    "import pandas as pd\n",
    "from torchvision import transforms as T\n",
    "from timm import create_model\n",
    "\n",
    "from wildlife_tools.features import DeepFeatures\n",
    "from wildlife_tools.data import WildlifeDataset\n",
    "from wildlife_tools.similarity import CosineSimilarity\n",
    "from wildlife_tools.inference import KnnClassifier\n",
    "\n",
    "\n",
    "datasets = [\n",
    "    'BirdIndividualID',\n",
    "    'SealID',\n",
    "    'FriesianCattle2015',\n",
    "    'ATRW',\n",
    "    'NDD20',\n",
    "    'SMALST',\n",
    "    'SeaTurtleIDHeads',\n",
    "    'AAUZebraFish',\n",
    "    'CZoo',\n",
    "    'CTai',\n",
    "    'Giraffes',\n",
    "    'HyenaID2022',\n",
    "    'MacaqueFaces',\n",
    "    'OpenCows2020',\n",
    "    'StripeSpotter',\n",
    "    'AerialCattle2017',\n",
    "    'GiraffeZebraID',\n",
    "    'IPanda50',\n",
    "    'WhaleSharkID',\n",
    "    'FriesianCattle2017',\n",
    "    'Cows2021',\n",
    "    'LeopardID2022',\n",
    "    'NOAARightWhale',\n",
    "    'HappyWhale',\n",
    "    'HumpbackWhaleID',\n",
    "    'LionData',\n",
    "    'NyalaData',\n",
    "    'ZindiTurtleRecall',\n",
    "    'BelugaID',\n",
    "    ]\n",
    "\n",
    "model = create_model(\"hf-hub:BVRA/MegaDescriptor-T-224\", pretrained=True)\n",
    "extractor = DeepFeatures(model, device='cuda')\n",
    "\n",
    "root_images = '../data/images/size-256'\n",
    "root_metadata = '../data/metadata/datasets'"
   ]
  },
  {
   "cell_type": "code",
   "execution_count": null,
   "id": "8d8543ef",
   "metadata": {},
   "outputs": [
    {
     "name": "stderr",
     "output_type": "stream",
     "text": [
      "100%|███████████████████████████████████████████████████████████████| 82/82 [02:59<00:00,  2.19s/it]\n",
      "100%|█████████████████████████████████████████████████████████████| 327/327 [11:32<00:00,  2.12s/it]\n"
     ]
    },
    {
     "name": "stdout",
     "output_type": "stream",
     "text": [
      "BirdIndividualID 0.967291507268554\n"
     ]
    },
    {
     "name": "stderr",
     "output_type": "stream",
     "text": [
      "100%|█████████████████████████████████████████████████████████████████| 4/4 [00:07<00:00,  1.88s/it]\n",
      "100%|███████████████████████████████████████████████████████████████| 13/13 [00:28<00:00,  2.15s/it]\n"
     ]
    },
    {
     "name": "stdout",
     "output_type": "stream",
     "text": [
      "SealID 0.5587529976019184\n"
     ]
    },
    {
     "name": "stderr",
     "output_type": "stream",
     "text": [
      "100%|█████████████████████████████████████████████████████████████████| 1/1 [00:03<00:00,  3.52s/it]\n",
      "100%|█████████████████████████████████████████████████████████████████| 3/3 [00:09<00:00,  3.05s/it]\n"
     ]
    },
    {
     "name": "stdout",
     "output_type": "stream",
     "text": [
      "FriesianCattle2015 0.55\n"
     ]
    },
    {
     "name": "stderr",
     "output_type": "stream",
     "text": [
      "100%|█████████████████████████████████████████████████████████████████| 9/9 [00:17<00:00,  2.00s/it]\n",
      "100%|███████████████████████████████████████████████████████████████| 34/34 [01:04<00:00,  1.90s/it]\n"
     ]
    },
    {
     "name": "stdout",
     "output_type": "stream",
     "text": [
      "ATRW 0.9302325581395349\n"
     ]
    },
    {
     "name": "stderr",
     "output_type": "stream",
     "text": [
      "100%|█████████████████████████████████████████████████████████████████| 5/5 [00:07<00:00,  1.57s/it]\n",
      "100%|███████████████████████████████████████████████████████████████| 17/17 [00:29<00:00,  1.73s/it]\n"
     ]
    },
    {
     "name": "stdout",
     "output_type": "stream",
     "text": [
      "NDD20 0.5461393596986818\n"
     ]
    },
    {
     "name": "stderr",
     "output_type": "stream",
     "text": [
      "100%|███████████████████████████████████████████████████████████████| 21/21 [00:47<00:00,  2.25s/it]\n",
      "100%|███████████████████████████████████████████████████████████████| 81/81 [03:17<00:00,  2.43s/it]\n"
     ]
    },
    {
     "name": "stdout",
     "output_type": "stream",
     "text": [
      "SMALST 1.0\n"
     ]
    },
    {
     "name": "stderr",
     "output_type": "stream",
     "text": [
      "100%|███████████████████████████████████████████████████████████████| 12/12 [00:18<00:00,  1.57s/it]\n",
      "100%|███████████████████████████████████████████████████████████████| 48/48 [01:09<00:00,  1.44s/it]\n"
     ]
    },
    {
     "name": "stdout",
     "output_type": "stream",
     "text": [
      "SeaTurtleIDHeads 0.803818301514154\n"
     ]
    },
    {
     "name": "stderr",
     "output_type": "stream",
     "text": [
      "100%|███████████████████████████████████████████████████████████████| 11/11 [00:38<00:00,  3.52s/it]\n",
      "100%|███████████████████████████████████████████████████████████████| 42/42 [02:31<00:00,  3.61s/it]\n"
     ]
    },
    {
     "name": "stdout",
     "output_type": "stream",
     "text": [
      "AAUZebraFish 0.9955056179775281\n"
     ]
    },
    {
     "name": "stderr",
     "output_type": "stream",
     "text": [
      "100%|█████████████████████████████████████████████████████████████████| 4/4 [00:07<00:00,  1.89s/it]\n",
      "100%|███████████████████████████████████████████████████████████████| 14/14 [00:29<00:00,  2.12s/it]\n"
     ]
    },
    {
     "name": "stdout",
     "output_type": "stream",
     "text": [
      "CZoo 0.9787234042553191\n"
     ]
    },
    {
     "name": "stderr",
     "output_type": "stream",
     "text": [
      "100%|█████████████████████████████████████████████████████████████████| 8/8 [00:16<00:00,  2.11s/it]\n",
      "100%|███████████████████████████████████████████████████████████████| 30/30 [01:12<00:00,  2.43s/it]\n"
     ]
    },
    {
     "name": "stdout",
     "output_type": "stream",
     "text": [
      "CTai 0.8445873526259379\n"
     ]
    },
    {
     "name": "stderr",
     "output_type": "stream",
     "text": [
      "100%|█████████████████████████████████████████████████████████████████| 3/3 [00:04<00:00,  1.54s/it]\n",
      "100%|█████████████████████████████████████████████████████████████████| 9/9 [00:16<00:00,  1.81s/it]\n"
     ]
    },
    {
     "name": "stdout",
     "output_type": "stream",
     "text": [
      "Giraffes 0.8246268656716418\n"
     ]
    },
    {
     "name": "stderr",
     "output_type": "stream",
     "text": [
      "100%|█████████████████████████████████████████████████████████████████| 5/5 [00:10<00:00,  2.05s/it]\n",
      "100%|███████████████████████████████████████████████████████████████| 20/20 [00:37<00:00,  1.89s/it]\n"
     ]
    },
    {
     "name": "stdout",
     "output_type": "stream",
     "text": [
      "HyenaID2022 0.626984126984127\n"
     ]
    },
    {
     "name": "stderr",
     "output_type": "stream",
     "text": [
      "100%|███████████████████████████████████████████████████████████████| 10/10 [00:16<00:00,  1.64s/it]\n",
      "100%|███████████████████████████████████████████████████████████████| 40/40 [00:58<00:00,  1.46s/it]\n"
     ]
    },
    {
     "name": "stdout",
     "output_type": "stream",
     "text": [
      "MacaqueFaces 0.9904458598726115\n"
     ]
    },
    {
     "name": "stderr",
     "output_type": "stream",
     "text": [
      "100%|█████████████████████████████████████████████████████████████████| 8/8 [00:16<00:00,  2.00s/it]\n",
      "100%|███████████████████████████████████████████████████████████████| 30/30 [00:59<00:00,  1.99s/it]\n"
     ]
    },
    {
     "name": "stdout",
     "output_type": "stream",
     "text": [
      "OpenCows2020 0.9957761351636748\n"
     ]
    },
    {
     "name": "stderr",
     "output_type": "stream",
     "text": [
      "100%|█████████████████████████████████████████████████████████████████| 2/2 [00:03<00:00,  1.89s/it]\n",
      "100%|█████████████████████████████████████████████████████████████████| 6/6 [00:11<00:00,  1.98s/it]\n"
     ]
    },
    {
     "name": "stdout",
     "output_type": "stream",
     "text": [
      "StripeSpotter 0.9512195121951219\n"
     ]
    },
    {
     "name": "stderr",
     "output_type": "stream",
     "text": [
      "100%|███████████████████████████████████████████████████████████████| 73/73 [02:16<00:00,  1.87s/it]\n",
      "100%|█████████████████████████████████████████████████████████████| 290/290 [08:56<00:00,  1.85s/it]\n"
     ]
    },
    {
     "name": "stdout",
     "output_type": "stream",
     "text": [
      "AerialCattle2017 1.0\n"
     ]
    },
    {
     "name": "stderr",
     "output_type": "stream",
     "text": [
      "100%|███████████████████████████████████████████████████████████████| 12/12 [00:23<00:00,  1.97s/it]\n",
      "100%|███████████████████████████████████████████████████████████████| 43/43 [01:18<00:00,  1.83s/it]\n"
     ]
    },
    {
     "name": "stdout",
     "output_type": "stream",
     "text": [
      "GiraffeZebraID 0.6014637391882901\n"
     ]
    },
    {
     "name": "stderr",
     "output_type": "stream",
     "text": [
      "100%|███████████████████████████████████████████████████████████████| 11/11 [00:19<00:00,  1.80s/it]\n",
      "100%|███████████████████████████████████████████████████████████████| 43/43 [01:14<00:00,  1.73s/it]\n"
     ]
    },
    {
     "name": "stdout",
     "output_type": "stream",
     "text": [
      "IPanda50 0.7483636363636363\n"
     ]
    },
    {
     "name": "stderr",
     "output_type": "stream",
     "text": [
      "100%|███████████████████████████████████████████████████████████████| 13/13 [00:23<00:00,  1.85s/it]\n",
      "100%|███████████████████████████████████████████████████████████████| 48/48 [01:30<00:00,  1.89s/it]\n"
     ]
    },
    {
     "name": "stdout",
     "output_type": "stream",
     "text": [
      "WhaleSharkID 0.2858044164037855\n"
     ]
    },
    {
     "name": "stderr",
     "output_type": "stream",
     "text": [
      "100%|█████████████████████████████████████████████████████████████████| 2/2 [00:03<00:00,  1.86s/it]\n",
      "100%|█████████████████████████████████████████████████████████████████| 6/6 [00:10<00:00,  1.83s/it]\n"
     ]
    },
    {
     "name": "stdout",
     "output_type": "stream",
     "text": [
      "FriesianCattle2017 0.9545454545454546\n"
     ]
    },
    {
     "name": "stderr",
     "output_type": "stream",
     "text": [
      "100%|███████████████████████████████████████████████████████████████| 14/14 [00:30<00:00,  2.15s/it]\n",
      "100%|███████████████████████████████████████████████████████████████| 55/55 [01:55<00:00,  2.10s/it]\n"
     ]
    },
    {
     "name": "stdout",
     "output_type": "stream",
     "text": [
      "Cows2021 0.9913494809688581\n"
     ]
    },
    {
     "name": "stderr",
     "output_type": "stream",
     "text": [
      "100%|███████████████████████████████████████████████████████████████| 12/12 [00:22<00:00,  1.91s/it]\n",
      "100%|███████████████████████████████████████████████████████████████| 42/42 [01:24<00:00,  2.01s/it]\n"
     ]
    },
    {
     "name": "stdout",
     "output_type": "stream",
     "text": [
      "LeopardID2022 0.6706210746685276\n"
     ]
    },
    {
     "name": "stderr",
     "output_type": "stream",
     "text": [
      "100%|█████████████████████████████████████████████████████████████████| 8/8 [00:15<00:00,  1.92s/it]\n",
      "100%|███████████████████████████████████████████████████████████████| 29/29 [01:03<00:00,  2.18s/it]\n"
     ]
    },
    {
     "name": "stdout",
     "output_type": "stream",
     "text": [
      "NOAARightWhale 0.25160599571734477\n"
     ]
    },
    {
     "name": "stderr",
     "output_type": "stream",
     "text": [
      "100%|███████████████████████████████████████████████████████████████| 84/84 [02:50<00:00,  2.03s/it]\n",
      "100%|█████████████████████████████████████████████████████████████| 316/316 [10:41<00:00,  2.03s/it]\n"
     ]
    },
    {
     "name": "stdout",
     "output_type": "stream",
     "text": [
      "HappyWhale 0.12583278596227832\n"
     ]
    },
    {
     "name": "stderr",
     "output_type": "stream",
     "text": [
      "100%|███████████████████████████████████████████████████████████████| 30/30 [00:57<00:00,  1.92s/it]\n",
      "100%|███████████████████████████████████████████████████████████████| 94/94 [02:29<00:00,  1.59s/it]\n"
     ]
    },
    {
     "name": "stdout",
     "output_type": "stream",
     "text": [
      "HumpbackWhaleID 0.28120823309275594\n"
     ]
    },
    {
     "name": "stderr",
     "output_type": "stream",
     "text": [
      "100%|█████████████████████████████████████████████████████████████████| 2/2 [00:02<00:00,  1.39s/it]\n",
      "100%|█████████████████████████████████████████████████████████████████| 5/5 [00:09<00:00,  1.89s/it]\n"
     ]
    },
    {
     "name": "stdout",
     "output_type": "stream",
     "text": [
      "LionData 0.14838709677419354\n"
     ]
    },
    {
     "name": "stderr",
     "output_type": "stream",
     "text": [
      "100%|█████████████████████████████████████████████████████████████████| 4/4 [00:05<00:00,  1.32s/it]\n",
      "100%|███████████████████████████████████████████████████████████████| 12/12 [00:16<00:00,  1.35s/it]\n"
     ]
    },
    {
     "name": "stdout",
     "output_type": "stream",
     "text": [
      "NyalaData 0.09345794392523364\n"
     ]
    },
    {
     "name": "stderr",
     "output_type": "stream",
     "text": [
      "100%|███████████████████████████████████████████████████████████████| 25/25 [00:30<00:00,  1.21s/it]\n",
      "100%|███████████████████████████████████████████████████████████████| 76/76 [01:34<00:00,  1.25s/it]\n"
     ]
    },
    {
     "name": "stdout",
     "output_type": "stream",
     "text": [
      "ZindiTurtleRecall 0.26768332251784555\n"
     ]
    },
    {
     "name": "stderr",
     "output_type": "stream",
     "text": [
      "100%|███████████████████████████████████████████████████████████████| 10/10 [00:21<00:00,  2.12s/it]\n",
      "100%|███████████████████████████████████████████████████████████████| 37/37 [00:44<00:00,  1.19s/it]\n"
     ]
    },
    {
     "name": "stdout",
     "output_type": "stream",
     "text": [
      "BelugaID 0.3312451057165231\n"
     ]
    }
   ],
   "source": [
    "results = {}\n",
    "for name in datasets:\n",
    "    metadata = pd.read_csv(f'{root_metadata}/{name}/metadata.csv', index_col=0)\n",
    "\n",
    "    transform = T.Compose([\n",
    "        T.Resize(size=(224, 224)),\n",
    "        T.ToTensor(),\n",
    "        T.Normalize(mean=(0.485, 0.456, 0.406), std=(0.229, 0.224, 0.225)),\n",
    "    ])\n",
    "\n",
    "    database = WildlifeDataset(\n",
    "        metadata=metadata.query('split == \"train\"'),\n",
    "        root=f'{root_images}/{name}/',\n",
    "        transform=transform,\n",
    "    )\n",
    "\n",
    "    query = WildlifeDataset(\n",
    "        metadata=metadata.query('split == \"test\"'),\n",
    "        root=f'{root_images}/{name}/',\n",
    "        transform=transform,\n",
    "    )\n",
    "\n",
    "    matcher = CosineSimilarity()\n",
    "    similarity = matcher(query=extractor(query), database=extractor(database))\n",
    "    preds = KnnClassifier(k=1, database_labels=database.labels_string)(similarity['cosine'])\n",
    "    \n",
    "    acc = sum(preds == query.labels_string) / len(preds)\n",
    "    print(name, acc)\n",
    "    results[name] = acc\n",
    "\n",
    "\n",
    "pd.Series(results).to_csv('results/MegaDescriptor-T-224.csv')"
   ]
  },
  {
   "cell_type": "code",
   "execution_count": null,
   "id": "a7d7aab0",
   "metadata": {},
   "outputs": [],
   "source": []
  }
 ],
 "metadata": {
  "kernelspec": {
   "display_name": "Python 3 (ipykernel)",
   "language": "python",
   "name": "python3"
  },
  "language_info": {
   "codemirror_mode": {
    "name": "ipython",
    "version": 3
   },
   "file_extension": ".py",
   "mimetype": "text/x-python",
   "name": "python",
   "nbconvert_exporter": "python",
   "pygments_lexer": "ipython3",
   "version": "3.10.4"
  }
 },
 "nbformat": 4,
 "nbformat_minor": 5
}
