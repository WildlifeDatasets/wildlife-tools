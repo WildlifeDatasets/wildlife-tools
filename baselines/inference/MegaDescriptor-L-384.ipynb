{
 "cells": [
  {
   "cell_type": "markdown",
   "id": "2538ca2e",
   "metadata": {},
   "source": [
    "# MegaDescriptor-L-384\n",
    "- Run inference with MegaDescriptor-L-384 (https://huggingface.co/BVRA/MegaDescriptor-L-384)"
   ]
  },
  {
   "cell_type": "code",
   "execution_count": null,
   "id": "c7f400b1",
   "metadata": {},
   "outputs": [
    {
     "name": "stderr",
     "output_type": "stream",
     "text": [
      "/mnt/appl/software/PyTorch/2.0.1-foss-2022a-CUDA-11.7.0/lib/python3.10/site-packages/torch/functional.py:504: UserWarning: torch.meshgrid: in an upcoming release, it will be required to pass the indexing argument. (Triggered internally at /tmp/eb-build/PyTorch/2.0.1/foss-2022a-CUDA-11.7.0/pytorch-v2.0.1/aten/src/ATen/native/TensorShape.cpp:3483.)\n",
      "  return _VF.meshgrid(tensors, **kwargs)  # type: ignore[attr-defined]\n"
     ]
    }
   ],
   "source": [
    "import pandas as pd\n",
    "from torchvision import transforms as T\n",
    "from timm import create_model\n",
    "\n",
    "from wildlife_tools.features import DeepFeatures\n",
    "from wildlife_tools.data import WildlifeDataset\n",
    "from wildlife_tools.similarity import CosineSimilarity\n",
    "from wildlife_tools.inference import KnnClassifier\n",
    "\n",
    "\n",
    "datasets = [\n",
    "    'BirdIndividualID',\n",
    "    'SealID',\n",
    "    'FriesianCattle2015',\n",
    "    'ATRW',\n",
    "    'NDD20',\n",
    "    'SMALST',\n",
    "    'SeaTurtleIDHeads',\n",
    "    'AAUZebraFish',\n",
    "    'CZoo',\n",
    "    'CTai',\n",
    "    'Giraffes',\n",
    "    'HyenaID2022',\n",
    "    'MacaqueFaces',\n",
    "    'OpenCows2020',\n",
    "    'StripeSpotter',\n",
    "    'AerialCattle2017',\n",
    "    'GiraffeZebraID',\n",
    "    'IPanda50',\n",
    "    'WhaleSharkID',\n",
    "    'FriesianCattle2017',\n",
    "    'Cows2021',\n",
    "    'LeopardID2022',\n",
    "    'NOAARightWhale',\n",
    "    'HappyWhale',\n",
    "    'HumpbackWhaleID',\n",
    "    'LionData',\n",
    "    'NyalaData',\n",
    "    'ZindiTurtleRecall',\n",
    "    'BelugaID',\n",
    "    ]\n",
    "\n",
    "model = create_model(\"hf-hub:BVRA/wildlife-mega-L-384\", pretrained=True)\n",
    "extractor = DeepFeatures(model, device='cuda')\n",
    "\n",
    "root_images = '../data/images/size-518'\n",
    "root_metadata = '../data/metadata/datasets'"
   ]
  },
  {
   "cell_type": "code",
   "execution_count": null,
   "id": "99691108",
   "metadata": {},
   "outputs": [
    {
     "name": "stderr",
     "output_type": "stream",
     "text": [
      "100%|███████████████████████████████████████████████████████████████| 82/82 [05:10<00:00,  3.78s/it]\n",
      "100%|█████████████████████████████████████████████████████████████| 327/327 [19:57<00:00,  3.66s/it]\n"
     ]
    },
    {
     "name": "stdout",
     "output_type": "stream",
     "text": [
      "BirdIndividualID 0.978194338179036\n"
     ]
    },
    {
     "name": "stderr",
     "output_type": "stream",
     "text": [
      "100%|█████████████████████████████████████████████████████████████████| 4/4 [00:14<00:00,  3.74s/it]\n",
      "100%|███████████████████████████████████████████████████████████████| 13/13 [00:49<00:00,  3.79s/it]\n"
     ]
    },
    {
     "name": "stdout",
     "output_type": "stream",
     "text": [
      "SealID 0.7865707434052758\n"
     ]
    },
    {
     "name": "stderr",
     "output_type": "stream",
     "text": [
      "100%|█████████████████████████████████████████████████████████████████| 1/1 [00:06<00:00,  6.91s/it]\n",
      "100%|█████████████████████████████████████████████████████████████████| 3/3 [00:16<00:00,  5.57s/it]\n"
     ]
    },
    {
     "name": "stdout",
     "output_type": "stream",
     "text": [
      "FriesianCattle2015 0.55\n"
     ]
    },
    {
     "name": "stderr",
     "output_type": "stream",
     "text": [
      "100%|█████████████████████████████████████████████████████████████████| 9/9 [00:32<00:00,  3.65s/it]\n",
      "100%|███████████████████████████████████████████████████████████████| 34/34 [02:02<00:00,  3.60s/it]\n"
     ]
    },
    {
     "name": "stdout",
     "output_type": "stream",
     "text": [
      "ATRW 0.9432558139534883\n"
     ]
    },
    {
     "name": "stderr",
     "output_type": "stream",
     "text": [
      "100%|█████████████████████████████████████████████████████████████████| 5/5 [00:17<00:00,  3.52s/it]\n",
      "100%|███████████████████████████████████████████████████████████████| 17/17 [01:03<00:00,  3.72s/it]\n"
     ]
    },
    {
     "name": "stdout",
     "output_type": "stream",
     "text": [
      "NDD20 0.6741996233521658\n"
     ]
    },
    {
     "name": "stderr",
     "output_type": "stream",
     "text": [
      "100%|███████████████████████████████████████████████████████████████| 21/21 [01:34<00:00,  4.52s/it]\n",
      "100%|███████████████████████████████████████████████████████████████| 81/81 [08:05<00:00,  5.99s/it]\n"
     ]
    },
    {
     "name": "stdout",
     "output_type": "stream",
     "text": [
      "SMALST 1.0\n"
     ]
    },
    {
     "name": "stderr",
     "output_type": "stream",
     "text": [
      "100%|███████████████████████████████████████████████████████████████| 12/12 [00:46<00:00,  3.86s/it]\n",
      "100%|███████████████████████████████████████████████████████████████| 48/48 [02:56<00:00,  3.69s/it]\n"
     ]
    },
    {
     "name": "stdout",
     "output_type": "stream",
     "text": [
      "SeaTurtleIDHeads 0.9117840684660962\n"
     ]
    },
    {
     "name": "stderr",
     "output_type": "stream",
     "text": [
      "100%|███████████████████████████████████████████████████████████████| 11/11 [01:30<00:00,  8.25s/it]\n",
      "100%|███████████████████████████████████████████████████████████████| 42/42 [06:14<00:00,  8.91s/it]\n"
     ]
    },
    {
     "name": "stdout",
     "output_type": "stream",
     "text": [
      "AAUZebraFish 0.9992509363295881\n"
     ]
    },
    {
     "name": "stderr",
     "output_type": "stream",
     "text": [
      "100%|█████████████████████████████████████████████████████████████████| 4/4 [00:24<00:00,  6.04s/it]\n",
      "100%|███████████████████████████████████████████████████████████████| 14/14 [01:21<00:00,  5.83s/it]\n"
     ]
    },
    {
     "name": "stdout",
     "output_type": "stream",
     "text": [
      "CZoo 0.9905437352245863\n"
     ]
    },
    {
     "name": "stderr",
     "output_type": "stream",
     "text": [
      "100%|█████████████████████████████████████████████████████████████████| 8/8 [00:49<00:00,  6.13s/it]\n",
      "100%|███████████████████████████████████████████████████████████████| 30/30 [02:55<00:00,  5.86s/it]\n"
     ]
    },
    {
     "name": "stdout",
     "output_type": "stream",
     "text": [
      "CTai 0.9110396570203644\n"
     ]
    },
    {
     "name": "stderr",
     "output_type": "stream",
     "text": [
      "100%|█████████████████████████████████████████████████████████████████| 3/3 [00:12<00:00,  4.06s/it]\n",
      "100%|█████████████████████████████████████████████████████████████████| 9/9 [00:37<00:00,  4.12s/it]\n"
     ]
    },
    {
     "name": "stdout",
     "output_type": "stream",
     "text": [
      "Giraffes 0.9104477611940298\n"
     ]
    },
    {
     "name": "stderr",
     "output_type": "stream",
     "text": [
      "100%|█████████████████████████████████████████████████████████████████| 5/5 [00:22<00:00,  4.58s/it]\n",
      "100%|███████████████████████████████████████████████████████████████| 20/20 [01:16<00:00,  3.82s/it]\n"
     ]
    },
    {
     "name": "stdout",
     "output_type": "stream",
     "text": [
      "HyenaID2022 0.7841269841269841\n"
     ]
    },
    {
     "name": "stderr",
     "output_type": "stream",
     "text": [
      "100%|███████████████████████████████████████████████████████████████| 10/10 [00:39<00:00,  3.94s/it]\n",
      "100%|███████████████████████████████████████████████████████████████| 40/40 [02:26<00:00,  3.66s/it]\n"
     ]
    },
    {
     "name": "stdout",
     "output_type": "stream",
     "text": [
      "MacaqueFaces 0.9904458598726115\n"
     ]
    },
    {
     "name": "stderr",
     "output_type": "stream",
     "text": [
      "100%|█████████████████████████████████████████████████████████████████| 8/8 [00:33<00:00,  4.20s/it]\n",
      "100%|███████████████████████████████████████████████████████████████| 30/30 [01:55<00:00,  3.84s/it]\n"
     ]
    },
    {
     "name": "stdout",
     "output_type": "stream",
     "text": [
      "OpenCows2020 1.0\n"
     ]
    },
    {
     "name": "stderr",
     "output_type": "stream",
     "text": [
      "100%|█████████████████████████████████████████████████████████████████| 2/2 [00:08<00:00,  4.25s/it]\n",
      "100%|█████████████████████████████████████████████████████████████████| 6/6 [00:21<00:00,  3.66s/it]\n"
     ]
    },
    {
     "name": "stdout",
     "output_type": "stream",
     "text": [
      "StripeSpotter 0.9817073170731707\n"
     ]
    },
    {
     "name": "stderr",
     "output_type": "stream",
     "text": [
      "100%|███████████████████████████████████████████████████████████████| 73/73 [04:30<00:00,  3.71s/it]\n",
      "100%|█████████████████████████████████████████████████████████████| 290/290 [17:31<00:00,  3.62s/it]\n"
     ]
    },
    {
     "name": "stdout",
     "output_type": "stream",
     "text": [
      "AerialCattle2017 1.0\n"
     ]
    },
    {
     "name": "stderr",
     "output_type": "stream",
     "text": [
      "100%|███████████████████████████████████████████████████████████████| 12/12 [00:45<00:00,  3.83s/it]\n",
      "100%|███████████████████████████████████████████████████████████████| 43/43 [02:37<00:00,  3.67s/it]\n"
     ]
    },
    {
     "name": "stdout",
     "output_type": "stream",
     "text": [
      "GiraffeZebraID 0.83166999334664\n"
     ]
    },
    {
     "name": "stderr",
     "output_type": "stream",
     "text": [
      "100%|███████████████████████████████████████████████████████████████| 11/11 [00:42<00:00,  3.84s/it]\n",
      "100%|███████████████████████████████████████████████████████████████| 43/43 [02:39<00:00,  3.70s/it]\n"
     ]
    },
    {
     "name": "stdout",
     "output_type": "stream",
     "text": [
      "IPanda50 0.8690909090909091\n"
     ]
    },
    {
     "name": "stderr",
     "output_type": "stream",
     "text": [
      "100%|███████████████████████████████████████████████████████████████| 13/13 [00:48<00:00,  3.71s/it]\n",
      "100%|███████████████████████████████████████████████████████████████| 48/48 [02:55<00:00,  3.66s/it]\n"
     ]
    },
    {
     "name": "stdout",
     "output_type": "stream",
     "text": [
      "WhaleSharkID 0.6201892744479496\n"
     ]
    },
    {
     "name": "stderr",
     "output_type": "stream",
     "text": [
      "100%|█████████████████████████████████████████████████████████████████| 2/2 [00:09<00:00,  4.81s/it]\n",
      "100%|█████████████████████████████████████████████████████████████████| 6/6 [00:24<00:00,  4.11s/it]\n"
     ]
    },
    {
     "name": "stdout",
     "output_type": "stream",
     "text": [
      "FriesianCattle2017 0.9646464646464646\n"
     ]
    },
    {
     "name": "stderr",
     "output_type": "stream",
     "text": [
      "100%|███████████████████████████████████████████████████████████████| 14/14 [00:56<00:00,  4.06s/it]\n",
      "100%|███████████████████████████████████████████████████████████████| 55/55 [03:58<00:00,  4.33s/it]\n"
     ]
    },
    {
     "name": "stdout",
     "output_type": "stream",
     "text": [
      "Cows2021 0.9953863898500577\n"
     ]
    },
    {
     "name": "stderr",
     "output_type": "stream",
     "text": [
      "100%|███████████████████████████████████████████████████████████████| 12/12 [00:58<00:00,  4.88s/it]\n",
      "100%|███████████████████████████████████████████████████████████████| 42/42 [03:09<00:00,  4.50s/it]\n"
     ]
    },
    {
     "name": "stdout",
     "output_type": "stream",
     "text": [
      "LeopardID2022 0.7557571528262387\n"
     ]
    },
    {
     "name": "stderr",
     "output_type": "stream",
     "text": [
      "100%|█████████████████████████████████████████████████████████████████| 8/8 [00:39<00:00,  4.95s/it]\n",
      "100%|███████████████████████████████████████████████████████████████| 29/29 [02:13<00:00,  4.59s/it]\n"
     ]
    },
    {
     "name": "stdout",
     "output_type": "stream",
     "text": [
      "NOAARightWhale 0.4025695931477516\n"
     ]
    },
    {
     "name": "stderr",
     "output_type": "stream",
     "text": [
      "100%|███████████████████████████████████████████████████████████████| 84/84 [07:44<00:00,  5.53s/it]\n",
      "100%|█████████████████████████████████████████████████████████████| 316/316 [28:09<00:00,  5.35s/it]\n"
     ]
    },
    {
     "name": "stdout",
     "output_type": "stream",
     "text": [
      "HappyWhale 0.3429670639016609\n"
     ]
    },
    {
     "name": "stderr",
     "output_type": "stream",
     "text": [
      "100%|███████████████████████████████████████████████████████████████| 30/30 [02:37<00:00,  5.26s/it]\n",
      "100%|███████████████████████████████████████████████████████████████| 94/94 [08:18<00:00,  5.31s/it]\n"
     ]
    },
    {
     "name": "stdout",
     "output_type": "stream",
     "text": [
      "HumpbackWhaleID 0.7781341887195937\n"
     ]
    },
    {
     "name": "stderr",
     "output_type": "stream",
     "text": [
      "100%|█████████████████████████████████████████████████████████████████| 2/2 [00:13<00:00,  6.74s/it]\n",
      "100%|█████████████████████████████████████████████████████████████████| 5/5 [00:40<00:00,  8.01s/it]\n"
     ]
    },
    {
     "name": "stdout",
     "output_type": "stream",
     "text": [
      "LionData 0.25161290322580643\n"
     ]
    },
    {
     "name": "stderr",
     "output_type": "stream",
     "text": [
      "100%|█████████████████████████████████████████████████████████████████| 4/4 [00:16<00:00,  4.17s/it]\n",
      "100%|███████████████████████████████████████████████████████████████| 12/12 [00:46<00:00,  3.87s/it]\n"
     ]
    },
    {
     "name": "stdout",
     "output_type": "stream",
     "text": [
      "NyalaData 0.3644859813084112\n"
     ]
    },
    {
     "name": "stderr",
     "output_type": "stream",
     "text": [
      "100%|███████████████████████████████████████████████████████████████| 25/25 [01:30<00:00,  3.63s/it]\n",
      "100%|███████████████████████████████████████████████████████████████| 76/76 [04:30<00:00,  3.56s/it]\n"
     ]
    },
    {
     "name": "stdout",
     "output_type": "stream",
     "text": [
      "ZindiTurtleRecall 0.7439974042829332\n"
     ]
    },
    {
     "name": "stderr",
     "output_type": "stream",
     "text": [
      "100%|███████████████████████████████████████████████████████████████| 10/10 [00:54<00:00,  5.49s/it]\n",
      "100%|███████████████████████████████████████████████████████████████| 37/37 [03:05<00:00,  5.02s/it]\n"
     ]
    },
    {
     "name": "stdout",
     "output_type": "stream",
     "text": [
      "BelugaID 0.6648394675019577\n"
     ]
    }
   ],
   "source": [
    "results = {}\n",
    "for name in datasets:\n",
    "    metadata = pd.read_csv(f'{root_metadata}/{name}/metadata.csv', index_col=0)\n",
    "\n",
    "    transform = T.Compose([\n",
    "        T.Resize(size=(384, 384)),\n",
    "        T.ToTensor(),\n",
    "        T.Normalize(mean=(0.485, 0.456, 0.406), std=(0.229, 0.224, 0.225)),\n",
    "    ])\n",
    "\n",
    "    database = WildlifeDataset(\n",
    "        metadata=metadata.query('split == \"train\"'),\n",
    "        root=f'{root_images}/{name}/',\n",
    "        transform=transform,\n",
    "    )\n",
    "\n",
    "    query = WildlifeDataset(\n",
    "        metadata=metadata.query('split == \"test\"'),\n",
    "        root=f'{root_images}/{name}/',\n",
    "        transform=transform,\n",
    "    )\n",
    "\n",
    "    matcher = CosineSimilarity()\n",
    "    similarity = matcher(query=extractor(query), database=extractor(database))\n",
    "    preds = KnnClassifier(k=1, database_labels=database.labels_string)(similarity['cosine'])\n",
    "\n",
    "    acc = sum(preds == query.labels_string) / len(preds)\n",
    "    print(name, acc)\n",
    "    results[name] = acc\n",
    "\n",
    "\n",
    "pd.Series(results).to_csv('results/MegaDescriptor-L-384.csv')"
   ]
  },
  {
   "cell_type": "code",
   "execution_count": null,
   "id": "f1be5294",
   "metadata": {},
   "outputs": [],
   "source": []
  }
 ],
 "metadata": {
  "kernelspec": {
   "display_name": "Python 3 (ipykernel)",
   "language": "python",
   "name": "python3"
  },
  "language_info": {
   "codemirror_mode": {
    "name": "ipython",
    "version": 3
   },
   "file_extension": ".py",
   "mimetype": "text/x-python",
   "name": "python",
   "nbconvert_exporter": "python",
   "pygments_lexer": "ipython3",
   "version": "3.10.4"
  }
 },
 "nbformat": 4,
 "nbformat_minor": 5
}
