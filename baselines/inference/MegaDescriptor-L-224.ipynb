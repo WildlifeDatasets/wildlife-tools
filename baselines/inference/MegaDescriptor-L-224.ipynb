{
 "cells": [
  {
   "cell_type": "markdown",
   "id": "38c288a9",
   "metadata": {},
   "source": [
    "# MegaDescriptor-L-224\n",
    "- Run inference with MegaDescriptor-L-224 (https://huggingface.co/BVRA/MegaDescriptor-L-224)"
   ]
  },
  {
   "cell_type": "code",
   "execution_count": null,
   "id": "c7f400b1",
   "metadata": {},
   "outputs": [],
   "source": [
    "import pandas as pd\n",
    "from torchvision import transforms as T\n",
    "from timm import create_model\n",
    "\n",
    "from wildlife_tools.features import DeepFeatures\n",
    "from wildlife_tools.data import WildlifeDataset\n",
    "from wildlife_tools.similarity import CosineSimilarity\n",
    "from wildlife_tools.inference import KnnClassifier\n",
    "\n",
    "\n",
    "datasets = [\n",
    "    'BirdIndividualID',\n",
    "    'SealID',\n",
    "    'FriesianCattle2015',\n",
    "    'ATRW',\n",
    "    'NDD20',\n",
    "    'SMALST',\n",
    "    'SeaTurtleIDHeads',\n",
    "    'AAUZebraFish',\n",
    "    'CZoo',\n",
    "    'CTai',\n",
    "    'Giraffes',\n",
    "    'HyenaID2022',\n",
    "    'MacaqueFaces',\n",
    "    'OpenCows2020',\n",
    "    'StripeSpotter',\n",
    "    'AerialCattle2017',\n",
    "    'GiraffeZebraID',\n",
    "    'IPanda50',\n",
    "    'WhaleSharkID',\n",
    "    'FriesianCattle2017',\n",
    "    'Cows2021',\n",
    "    'LeopardID2022',\n",
    "    'NOAARightWhale',\n",
    "    'HappyWhale',\n",
    "    'HumpbackWhaleID',\n",
    "    'LionData',\n",
    "    'NyalaData',\n",
    "    'ZindiTurtleRecall',\n",
    "    'BelugaID',\n",
    "    ]\n",
    "\n",
    "model = create_model(\"hf-hub:BVRA/MegaDescriptor-L-224\", pretrained=True)\n",
    "extractor = DeepFeatures(model, device='cuda')\n",
    "\n",
    "root_images = '../data/images/size-256'\n",
    "root_metadata = '../data/metadata/datasets'"
   ]
  },
  {
   "cell_type": "code",
   "execution_count": null,
   "id": "99691108",
   "metadata": {
    "scrolled": true
   },
   "outputs": [
    {
     "name": "stderr",
     "output_type": "stream",
     "text": [
      "100%|███████████████████████████████████████████████████████████████| 82/82 [03:25<00:00,  2.50s/it]\n",
      "100%|█████████████████████████████████████████████████████████████| 327/327 [12:53<00:00,  2.37s/it]\n"
     ]
    },
    {
     "name": "stdout",
     "output_type": "stream",
     "text": [
      "BirdIndividualID 0.9720734506503443\n"
     ]
    },
    {
     "name": "stderr",
     "output_type": "stream",
     "text": [
      "100%|█████████████████████████████████████████████████████████████████| 4/4 [00:08<00:00,  2.11s/it]\n",
      "100%|███████████████████████████████████████████████████████████████| 13/13 [00:28<00:00,  2.16s/it]\n"
     ]
    },
    {
     "name": "stdout",
     "output_type": "stream",
     "text": [
      "SealID 0.7002398081534772\n"
     ]
    },
    {
     "name": "stderr",
     "output_type": "stream",
     "text": [
      "100%|█████████████████████████████████████████████████████████████████| 1/1 [00:03<00:00,  3.20s/it]\n",
      "100%|█████████████████████████████████████████████████████████████████| 3/3 [00:09<00:00,  3.08s/it]\n"
     ]
    },
    {
     "name": "stdout",
     "output_type": "stream",
     "text": [
      "FriesianCattle2015 0.55\n"
     ]
    },
    {
     "name": "stderr",
     "output_type": "stream",
     "text": [
      "100%|█████████████████████████████████████████████████████████████████| 9/9 [00:21<00:00,  2.38s/it]\n",
      "100%|███████████████████████████████████████████████████████████████| 34/34 [01:03<00:00,  1.86s/it]\n"
     ]
    },
    {
     "name": "stdout",
     "output_type": "stream",
     "text": [
      "ATRW 0.9367441860465117\n"
     ]
    },
    {
     "name": "stderr",
     "output_type": "stream",
     "text": [
      "100%|█████████████████████████████████████████████████████████████████| 5/5 [00:06<00:00,  1.29s/it]\n",
      "100%|███████████████████████████████████████████████████████████████| 17/17 [00:22<00:00,  1.31s/it]\n"
     ]
    },
    {
     "name": "stdout",
     "output_type": "stream",
     "text": [
      "NDD20 0.615819209039548\n"
     ]
    },
    {
     "name": "stderr",
     "output_type": "stream",
     "text": [
      "100%|███████████████████████████████████████████████████████████████| 21/21 [01:01<00:00,  2.92s/it]\n",
      "100%|███████████████████████████████████████████████████████████████| 81/81 [03:58<00:00,  2.94s/it]\n"
     ]
    },
    {
     "name": "stdout",
     "output_type": "stream",
     "text": [
      "SMALST 1.0\n"
     ]
    },
    {
     "name": "stderr",
     "output_type": "stream",
     "text": [
      "100%|███████████████████████████████████████████████████████████████| 12/12 [00:23<00:00,  1.99s/it]\n",
      "100%|███████████████████████████████████████████████████████████████| 48/48 [01:08<00:00,  1.43s/it]\n"
     ]
    },
    {
     "name": "stdout",
     "output_type": "stream",
     "text": [
      "SeaTurtleIDHeads 0.8986175115207373\n"
     ]
    },
    {
     "name": "stderr",
     "output_type": "stream",
     "text": [
      "100%|███████████████████████████████████████████████████████████████| 11/11 [00:49<00:00,  4.49s/it]\n",
      "100%|███████████████████████████████████████████████████████████████| 42/42 [02:50<00:00,  4.07s/it]\n"
     ]
    },
    {
     "name": "stdout",
     "output_type": "stream",
     "text": [
      "AAUZebraFish 0.998501872659176\n"
     ]
    },
    {
     "name": "stderr",
     "output_type": "stream",
     "text": [
      "100%|█████████████████████████████████████████████████████████████████| 4/4 [00:10<00:00,  2.63s/it]\n",
      "100%|███████████████████████████████████████████████████████████████| 14/14 [00:34<00:00,  2.44s/it]\n"
     ]
    },
    {
     "name": "stdout",
     "output_type": "stream",
     "text": [
      "CZoo 0.983451536643026\n"
     ]
    },
    {
     "name": "stderr",
     "output_type": "stream",
     "text": [
      "100%|█████████████████████████████████████████████████████████████████| 8/8 [00:21<00:00,  2.74s/it]\n",
      "100%|███████████████████████████████████████████████████████████████| 30/30 [01:14<00:00,  2.49s/it]\n"
     ]
    },
    {
     "name": "stdout",
     "output_type": "stream",
     "text": [
      "CTai 0.9067524115755627\n"
     ]
    },
    {
     "name": "stderr",
     "output_type": "stream",
     "text": [
      "100%|█████████████████████████████████████████████████████████████████| 3/3 [00:06<00:00,  2.05s/it]\n",
      "100%|█████████████████████████████████████████████████████████████████| 9/9 [00:18<00:00,  2.03s/it]\n"
     ]
    },
    {
     "name": "stdout",
     "output_type": "stream",
     "text": [
      "Giraffes 0.8768656716417911\n"
     ]
    },
    {
     "name": "stderr",
     "output_type": "stream",
     "text": [
      "100%|█████████████████████████████████████████████████████████████████| 5/5 [00:14<00:00,  2.90s/it]\n",
      "100%|███████████████████████████████████████████████████████████████| 20/20 [00:45<00:00,  2.27s/it]\n"
     ]
    },
    {
     "name": "stdout",
     "output_type": "stream",
     "text": [
      "HyenaID2022 0.773015873015873\n"
     ]
    },
    {
     "name": "stderr",
     "output_type": "stream",
     "text": [
      "100%|███████████████████████████████████████████████████████████████| 10/10 [00:17<00:00,  1.78s/it]\n",
      "100%|███████████████████████████████████████████████████████████████| 40/40 [01:06<00:00,  1.67s/it]\n"
     ]
    },
    {
     "name": "stdout",
     "output_type": "stream",
     "text": [
      "MacaqueFaces 0.9896496815286624\n"
     ]
    },
    {
     "name": "stderr",
     "output_type": "stream",
     "text": [
      "100%|█████████████████████████████████████████████████████████████████| 8/8 [00:23<00:00,  2.90s/it]\n",
      "100%|███████████████████████████████████████████████████████████████| 30/30 [01:21<00:00,  2.73s/it]\n"
     ]
    },
    {
     "name": "stdout",
     "output_type": "stream",
     "text": [
      "OpenCows2020 0.9978880675818373\n"
     ]
    },
    {
     "name": "stderr",
     "output_type": "stream",
     "text": [
      "100%|█████████████████████████████████████████████████████████████████| 2/2 [00:04<00:00,  2.41s/it]\n",
      "100%|█████████████████████████████████████████████████████████████████| 6/6 [00:13<00:00,  2.32s/it]\n"
     ]
    },
    {
     "name": "stdout",
     "output_type": "stream",
     "text": [
      "StripeSpotter 0.975609756097561\n"
     ]
    },
    {
     "name": "stderr",
     "output_type": "stream",
     "text": [
      "100%|███████████████████████████████████████████████████████████████| 73/73 [03:18<00:00,  2.72s/it]\n",
      "100%|█████████████████████████████████████████████████████████████| 290/290 [12:47<00:00,  2.65s/it]\n"
     ]
    },
    {
     "name": "stdout",
     "output_type": "stream",
     "text": [
      "AerialCattle2017 1.0\n"
     ]
    },
    {
     "name": "stderr",
     "output_type": "stream",
     "text": [
      "100%|███████████████████████████████████████████████████████████████| 12/12 [00:35<00:00,  2.98s/it]\n",
      "100%|███████████████████████████████████████████████████████████████| 43/43 [01:49<00:00,  2.55s/it]\n"
     ]
    },
    {
     "name": "stdout",
     "output_type": "stream",
     "text": [
      "GiraffeZebraID 0.780439121756487\n"
     ]
    },
    {
     "name": "stderr",
     "output_type": "stream",
     "text": [
      "100%|███████████████████████████████████████████████████████████████| 11/11 [00:30<00:00,  2.78s/it]\n",
      "100%|███████████████████████████████████████████████████████████████| 43/43 [01:37<00:00,  2.28s/it]\n"
     ]
    },
    {
     "name": "stdout",
     "output_type": "stream",
     "text": [
      "IPanda50 0.8545454545454545\n"
     ]
    },
    {
     "name": "stderr",
     "output_type": "stream",
     "text": [
      "100%|███████████████████████████████████████████████████████████████| 13/13 [00:31<00:00,  2.41s/it]\n",
      "100%|███████████████████████████████████████████████████████████████| 48/48 [01:45<00:00,  2.19s/it]\n"
     ]
    },
    {
     "name": "stdout",
     "output_type": "stream",
     "text": [
      "WhaleSharkID 0.5003154574132492\n"
     ]
    },
    {
     "name": "stderr",
     "output_type": "stream",
     "text": [
      "100%|█████████████████████████████████████████████████████████████████| 2/2 [00:05<00:00,  2.51s/it]\n",
      "100%|█████████████████████████████████████████████████████████████████| 6/6 [00:14<00:00,  2.47s/it]\n"
     ]
    },
    {
     "name": "stdout",
     "output_type": "stream",
     "text": [
      "FriesianCattle2017 0.98989898989899\n"
     ]
    },
    {
     "name": "stderr",
     "output_type": "stream",
     "text": [
      "100%|███████████████████████████████████████████████████████████████| 14/14 [00:41<00:00,  2.97s/it]\n",
      "100%|███████████████████████████████████████████████████████████████| 55/55 [02:40<00:00,  2.91s/it]\n"
     ]
    },
    {
     "name": "stdout",
     "output_type": "stream",
     "text": [
      "Cows2021 0.9936562860438293\n"
     ]
    },
    {
     "name": "stderr",
     "output_type": "stream",
     "text": [
      "100%|███████████████████████████████████████████████████████████████| 12/12 [00:37<00:00,  3.09s/it]\n",
      "100%|███████████████████████████████████████████████████████████████| 42/42 [01:59<00:00,  2.84s/it]\n"
     ]
    },
    {
     "name": "stdout",
     "output_type": "stream",
     "text": [
      "LeopardID2022 0.7606420097697139\n"
     ]
    },
    {
     "name": "stderr",
     "output_type": "stream",
     "text": [
      "100%|█████████████████████████████████████████████████████████████████| 8/8 [00:22<00:00,  2.82s/it]\n",
      "100%|███████████████████████████████████████████████████████████████| 29/29 [01:17<00:00,  2.66s/it]\n"
     ]
    },
    {
     "name": "stdout",
     "output_type": "stream",
     "text": [
      "NOAARightWhale 0.3468950749464668\n"
     ]
    },
    {
     "name": "stderr",
     "output_type": "stream",
     "text": [
      "100%|███████████████████████████████████████████████████████████████| 84/84 [04:27<00:00,  3.18s/it]\n",
      "100%|█████████████████████████████████████████████████████████████| 316/316 [15:56<00:00,  3.03s/it]\n"
     ]
    },
    {
     "name": "stdout",
     "output_type": "stream",
     "text": [
      "HappyWhale 0.25335460260861403\n"
     ]
    },
    {
     "name": "stderr",
     "output_type": "stream",
     "text": [
      "100%|███████████████████████████████████████████████████████████████| 30/30 [01:30<00:00,  3.03s/it]\n",
      "100%|███████████████████████████████████████████████████████████████| 94/94 [04:33<00:00,  2.91s/it]\n"
     ]
    },
    {
     "name": "stdout",
     "output_type": "stream",
     "text": [
      "HumpbackWhaleID 0.6353916065223202\n"
     ]
    },
    {
     "name": "stderr",
     "output_type": "stream",
     "text": [
      "100%|█████████████████████████████████████████████████████████████████| 2/2 [00:06<00:00,  3.07s/it]\n",
      "100%|█████████████████████████████████████████████████████████████████| 5/5 [00:17<00:00,  3.49s/it]\n"
     ]
    },
    {
     "name": "stdout",
     "output_type": "stream",
     "text": [
      "LionData 0.2064516129032258\n"
     ]
    },
    {
     "name": "stderr",
     "output_type": "stream",
     "text": [
      "100%|█████████████████████████████████████████████████████████████████| 4/4 [00:10<00:00,  2.53s/it]\n",
      "100%|███████████████████████████████████████████████████████████████| 12/12 [00:31<00:00,  2.58s/it]\n"
     ]
    },
    {
     "name": "stdout",
     "output_type": "stream",
     "text": [
      "NyalaData 0.21728971962616822\n"
     ]
    },
    {
     "name": "stderr",
     "output_type": "stream",
     "text": [
      "100%|███████████████████████████████████████████████████████████████| 25/25 [01:04<00:00,  2.60s/it]\n",
      "100%|███████████████████████████████████████████████████████████████| 76/76 [03:04<00:00,  2.43s/it]\n"
     ]
    },
    {
     "name": "stdout",
     "output_type": "stream",
     "text": [
      "ZindiTurtleRecall 0.5814406229720961\n"
     ]
    },
    {
     "name": "stderr",
     "output_type": "stream",
     "text": [
      "100%|███████████████████████████████████████████████████████████████| 10/10 [00:38<00:00,  3.88s/it]\n",
      "100%|███████████████████████████████████████████████████████████████| 37/37 [02:27<00:00,  3.98s/it]\n"
     ]
    },
    {
     "name": "stdout",
     "output_type": "stream",
     "text": [
      "BelugaID 0.4792482380579483\n"
     ]
    }
   ],
   "source": [
    "results = {}\n",
    "for name in datasets:\n",
    "    metadata = pd.read_csv(f'{root_metadata}/{name}/metadata.csv', index_col=0)\n",
    "\n",
    "    transform = T.Compose([\n",
    "        T.Resize(size=(224, 224)),\n",
    "        T.ToTensor(),\n",
    "        T.Normalize(mean=(0.485, 0.456, 0.406), std=(0.229, 0.224, 0.225)),\n",
    "    ])\n",
    "\n",
    "    database = WildlifeDataset(\n",
    "        metadata=metadata.query('split == \"train\"'),\n",
    "        root=f'{root_images}/{name}/',\n",
    "        transform=transform,\n",
    "    )\n",
    "\n",
    "    query = WildlifeDataset(\n",
    "        metadata=metadata.query('split == \"test\"'),\n",
    "        root=f'{root_images}/{name}/',\n",
    "        transform=transform,\n",
    "    )\n",
    "\n",
    "\n",
    "    matcher = CosineSimilarity()\n",
    "    similarity = matcher(query=extractor(query), database=extractor(database))\n",
    "    preds = KnnClassifier(k=1, database_labels=database.labels_string)(similarity['cosine'])\n",
    "    \n",
    "    acc = sum(preds == query.labels_string) / len(preds)\n",
    "    print(name, acc)\n",
    "    results[name] = acc\n",
    "\n",
    "\n",
    "pd.Series(results).to_csv('results/MegaDescriptor-L-224.csv')"
   ]
  },
  {
   "cell_type": "code",
   "execution_count": null,
   "id": "828bb9cd",
   "metadata": {},
   "outputs": [],
   "source": []
  },
  {
   "cell_type": "code",
   "execution_count": null,
   "id": "4fd8edb6",
   "metadata": {},
   "outputs": [],
   "source": []
  },
  {
   "cell_type": "code",
   "execution_count": null,
   "id": "016e0afa",
   "metadata": {},
   "outputs": [],
   "source": []
  },
  {
   "cell_type": "code",
   "execution_count": null,
   "id": "266f0245",
   "metadata": {},
   "outputs": [],
   "source": []
  }
 ],
 "metadata": {
  "kernelspec": {
   "display_name": "Python 3 (ipykernel)",
   "language": "python",
   "name": "python3"
  },
  "language_info": {
   "codemirror_mode": {
    "name": "ipython",
    "version": 3
   },
   "file_extension": ".py",
   "mimetype": "text/x-python",
   "name": "python",
   "nbconvert_exporter": "python",
   "pygments_lexer": "ipython3",
   "version": "3.10.4"
  }
 },
 "nbformat": 4,
 "nbformat_minor": 5
}
