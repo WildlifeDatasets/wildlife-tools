{
 "cells": [
  {
   "cell_type": "markdown",
   "id": "3b9033a8",
   "metadata": {},
   "source": [
    "# MegaDescriptor-B-224\n",
    "- Run inference with MegaDescriptor-B-224 (https://huggingface.co/BVRA/MegaDescriptor-B-224)"
   ]
  },
  {
   "cell_type": "code",
   "execution_count": null,
   "id": "0f96ed84",
   "metadata": {},
   "outputs": [],
   "source": [
    "import pandas as pd\n",
    "from torchvision import transforms as T\n",
    "from timm import create_model\n",
    "\n",
    "from wildlife_tools.features import DeepFeatures\n",
    "from wildlife_tools.data import WildlifeDataset\n",
    "from wildlife_tools.similarity import CosineSimilarity\n",
    "from wildlife_tools.inference import KnnClassifier\n",
    "\n",
    "\n",
    "datasets = [\n",
    "    'BirdIndividualID',\n",
    "    'SealID',\n",
    "    'FriesianCattle2015',\n",
    "    'ATRW',\n",
    "    'NDD20',\n",
    "    'SMALST',\n",
    "    'SeaTurtleIDHeads',\n",
    "    'AAUZebraFish',\n",
    "    'CZoo',\n",
    "    'CTai',\n",
    "    'Giraffes',\n",
    "    'HyenaID2022',\n",
    "    'MacaqueFaces',\n",
    "    'OpenCows2020',\n",
    "    'StripeSpotter',\n",
    "    'AerialCattle2017',\n",
    "    'GiraffeZebraID',\n",
    "    'IPanda50',\n",
    "    'WhaleSharkID',\n",
    "    'FriesianCattle2017',\n",
    "    'Cows2021',\n",
    "    'LeopardID2022',\n",
    "    'NOAARightWhale',\n",
    "    'HappyWhale',\n",
    "    'HumpbackWhaleID',\n",
    "    'LionData',\n",
    "    'NyalaData',\n",
    "    'ZindiTurtleRecall',\n",
    "    'BelugaID',\n",
    "    ]\n",
    "\n",
    "model = create_model(\"hf-hub:BVRA/MegaDescriptor-B-224\", pretrained=True)\n",
    "extractor = DeepFeatures(model, device='cuda')\n",
    "\n",
    "root_images = '../data/images/size-256'\n",
    "root_metadata = '../data/metadata/datasets'"
   ]
  },
  {
   "cell_type": "code",
   "execution_count": null,
   "id": "ef8852b9",
   "metadata": {},
   "outputs": [],
   "source": [
    "results = {}\n",
    "for name in datasets:\n",
    "    metadata = pd.read_csv(f'{root_metadata}/{name}/metadata.csv', index_col=0)\n",
    "\n",
    "    transform = T.Compose([\n",
    "        T.Resize(size=(224, 224)),\n",
    "        T.ToTensor(),\n",
    "        T.Normalize(mean=(0.485, 0.456, 0.406), std=(0.229, 0.224, 0.225)),\n",
    "    ])\n",
    "\n",
    "    database = WildlifeDataset(\n",
    "        metadata=metadata.query('split == \"train\"'),\n",
    "        root=f'{root_images}/{name}/',\n",
    "        transform=transform,\n",
    "    )\n",
    "\n",
    "    query = WildlifeDataset(\n",
    "        metadata=metadata.query('split == \"test\"'),\n",
    "        root=f'{root_images}/{name}/',\n",
    "        transform=transform,\n",
    "    )\n",
    "\n",
    "    matcher = CosineSimilarity()\n",
    "    similarity = matcher(query=extractor(query), database=extractor(database))\n",
    "    preds = KnnClassifier(k=1, database_labels=database.labels_string)(similarity['cosine'])\n",
    "    \n",
    "    acc = sum(preds == query.labels_string) / len(preds)\n",
    "    print(name, acc)\n",
    "    results[name] = acc\n",
    "\n",
    "\n",
    "pd.Series(results).to_csv('results/MegaDescriptor-B-224.csv')"
   ]
  },
  {
   "cell_type": "code",
   "execution_count": null,
   "id": "86733e14",
   "metadata": {},
   "outputs": [],
   "source": []
  }
 ],
 "metadata": {
  "kernelspec": {
   "display_name": "Python 3 (ipykernel)",
   "language": "python",
   "name": "python3"
  },
  "language_info": {
   "codemirror_mode": {
    "name": "ipython",
    "version": 3
   },
   "file_extension": ".py",
   "mimetype": "text/x-python",
   "name": "python",
   "nbconvert_exporter": "python",
   "pygments_lexer": "ipython3",
   "version": "3.10.4"
  }
 },
 "nbformat": 4,
 "nbformat_minor": 5
}
