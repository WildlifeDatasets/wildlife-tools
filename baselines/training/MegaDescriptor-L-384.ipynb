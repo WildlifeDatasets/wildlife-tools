{
 "cells": [
  {
   "cell_type": "markdown",
   "id": "664becf5",
   "metadata": {},
   "source": [
    "# MegaDescriptor-L-384\n",
    "- Configuration used for training MegaDescriptor-L-384 (https://huggingface.co/BVRA/MegaDescriptor-L-384)"
   ]
  },
  {
   "cell_type": "code",
   "execution_count": null,
   "id": "8c794d29",
   "metadata": {},
   "outputs": [],
   "source": [
    "from itertools import chain\n",
    "import torch\n",
    "import timm\n",
    "import pandas as pd\n",
    "import torchvision.transforms as T\n",
    "from torch.optim import SGD\n",
    "from wildlife_tools.data import WildlifeDataset\n",
    "from wildlife_tools.train import ArcFaceLoss, BasicTrainer\n",
    "\n",
    "\n",
    "# Dataset configuration\n",
    "metadata = pd.read_csv('../data/metadata/combined/combined_all.csv')\n",
    "image_root = '../data/images/size-518'\n",
    "transform = T.Compose([\n",
    "    T.Resize(size=(384, 384)),\n",
    "    T.RandAugment(num_ops=2, magnitude=20),\n",
    "    T.ToTensor(),\n",
    "    T.Normalize(mean=(0.485, 0.456, 0.406), std=(0.229, 0.224, 0.225)),\n",
    "])\n",
    "dataset = WildlifeDataset(\n",
    "    metadata = metadata.query('split == \"train\"'), \n",
    "    root = image_root,\n",
    "    transform=transform\n",
    ")\n",
    "\n",
    "\n",
    "# Backbone and loss configuration\n",
    "backbone = timm.create_model('swin_large_patch4_window12_384', num_classes=0, pretrained=True)\n",
    "with torch.no_grad():\n",
    "    dummy_input = torch.randn(1, 3, 384, 384)\n",
    "    embedding_size = backbone(dummy_input).shape[1]\n",
    "objective = ArcFaceLoss(num_classes=dataset.num_classes, embedding_size=embedding_size, margin=0.5, scale=64)\n",
    "\n",
    "\n",
    "# Optimizer and scheduler configuration\n",
    "params = chain(backbone.parameters(), objective.parameters())\n",
    "optimizer = SGD(params=params, lr=0.001, momentum=0.9)\n",
    "min_lr = optimizer.defaults.get(\"lr\") * 1e-3\n",
    "scheduler = torch.optim.lr_scheduler.CosineAnnealingLR(optimizer, T_max=100, eta_min=min_lr)\n",
    "\n",
    "\n",
    "# Setup training\n",
    "trainer = BasicTrainer(\n",
    "    dataset=dataset,\n",
    "    model=backbone,\n",
    "    objective=objective,\n",
    "    optimizer=optimizer,\n",
    "    scheduler=scheduler,\n",
    "    batch_size=16,\n",
    "    accumulation_steps=8,\n",
    "    num_workers=2,\n",
    "    epochs=100,\n",
    "    device='cuda',\n",
    ")\n",
    "\n",
    "\n",
    "trainer.train()"
   ]
  },
  {
   "cell_type": "code",
   "execution_count": null,
   "id": "9b982100",
   "metadata": {},
   "outputs": [],
   "source": []
  }
 ],
 "metadata": {
  "kernelspec": {
   "display_name": "Python 3 (ipykernel)",
   "language": "python",
   "name": "python3"
  },
  "language_info": {
   "codemirror_mode": {
    "name": "ipython",
    "version": 3
   },
   "file_extension": ".py",
   "mimetype": "text/x-python",
   "name": "python",
   "nbconvert_exporter": "python",
   "pygments_lexer": "ipython3",
   "version": "3.10.4"
  }
 },
 "nbformat": 4,
 "nbformat_minor": 5
}
