{
 "cells": [
  {
   "cell_type": "code",
   "execution_count": 53,
   "id": "f4716800",
   "metadata": {},
   "outputs": [],
   "source": [
    "import pandas as pd\n",
    "import numpy as np\n",
    "import timm\n",
    "import torchvision.transforms as T\n",
    "\n",
    "import sys\n",
    "sys.path.append('../wildlife_tools/')\n",
    "\n",
    "from features.local import SuperPointExtractor, SiftExtractor, DiskExtractor, AlikedExtractor\n",
    "from features.deep import DeepFeatures\n",
    "from data.dataset import WildlifeDataset\n",
    "\n",
    "metadata = {'metadata':  pd.read_csv('TestDataset/metadata.csv'), 'root': 'TestDataset'}\n",
    "transform = T.Compose([T.Resize([224, 224]), T.ToTensor()])\n",
    "dataset = WildlifeDataset(**metadata, transform=transform)\n"
   ]
  },
  {
   "cell_type": "code",
   "execution_count": 52,
   "id": "78b04526",
   "metadata": {},
   "outputs": [
    {
     "name": "stderr",
     "output_type": "stream",
     "text": [
      "100%|█████████████████████████████████████████████████████████████████| 3/3 [00:00<00:00, 11.85it/s]\n"
     ]
    }
   ],
   "source": [
    "extractor = SiftExtractor()\n",
    "output = extractor(dataset)\n",
    "\n",
    "assert len(output) == len(dataset)\n",
    "assert tuple(output.features[0]['keypoints'].shape) == (256, 2)\n",
    "assert tuple(output.features[0]['descriptors'].shape) == (256, 128)"
   ]
  },
  {
   "cell_type": "code",
   "execution_count": 51,
   "id": "5f6bb73b",
   "metadata": {},
   "outputs": [
    {
     "name": "stderr",
     "output_type": "stream",
     "text": [
      "100%|█████████████████████████████████████████████████████████████████| 3/3 [00:00<00:00,  8.87it/s]\n"
     ]
    }
   ],
   "source": [
    "extractor = SuperPointExtractor()\n",
    "output = extractor(dataset)\n",
    "\n",
    "assert len(output) == len(dataset)\n",
    "assert tuple(output.features[0]['keypoints'].shape) == (256, 2)\n",
    "assert tuple(output.features[0]['descriptors'].shape) == (256, 256)"
   ]
  },
  {
   "cell_type": "code",
   "execution_count": 32,
   "id": "ff226994",
   "metadata": {},
   "outputs": [
    {
     "name": "stderr",
     "output_type": "stream",
     "text": [
      "100%|█████████████████████████████████████████████████████████████████| 3/3 [00:00<00:00,  4.03it/s]\n"
     ]
    }
   ],
   "source": [
    "extractor = AlikedExtractor()\n",
    "output = extractor(dataset)\n",
    "\n",
    "assert len(output) == len(dataset)\n",
    "assert tuple(output.features[0]['keypoints'].shape) == (256, 2)\n",
    "assert tuple(output.features[0]['descriptors'].shape) == (256, 128)"
   ]
  },
  {
   "cell_type": "code",
   "execution_count": 33,
   "id": "ac1e189e",
   "metadata": {},
   "outputs": [
    {
     "name": "stderr",
     "output_type": "stream",
     "text": [
      "100%|█████████████████████████████████████████████████████████████████| 3/3 [00:00<00:00,  4.95it/s]\n"
     ]
    }
   ],
   "source": [
    "extractor = DiskExtractor()\n",
    "output = extractor(dataset)\n",
    "\n",
    "assert len(output) == len(dataset)\n",
    "assert tuple(output.features[0]['keypoints'].shape) == (256, 2)\n",
    "assert tuple(output.features[0]['descriptors'].shape) == (256, 128)"
   ]
  },
  {
   "cell_type": "code",
   "execution_count": 44,
   "id": "8d9da74f",
   "metadata": {},
   "outputs": [
    {
     "name": "stderr",
     "output_type": "stream",
     "text": [
      "100%|█████████████████████████████████████████████████████████████████| 1/1 [00:02<00:00,  2.49s/it]\n"
     ]
    }
   ],
   "source": [
    "backbone = timm.create_model('hf-hub:BVRA/MegaDescriptor-T-224', num_classes=0, pretrained=True)\n",
    "extractor = DeepFeatures(backbone)\n",
    "output = extractor(dataset)\n",
    "\n",
    "assert len(output) == len(dataset)\n",
    "assert tuple(output.features.shape) == (len(dataset), 768)"
   ]
  },
  {
   "cell_type": "code",
   "execution_count": null,
   "id": "81e9ac29",
   "metadata": {},
   "outputs": [],
   "source": []
  },
  {
   "cell_type": "code",
   "execution_count": null,
   "id": "fb7b845f",
   "metadata": {},
   "outputs": [],
   "source": []
  }
 ],
 "metadata": {
  "kernelspec": {
   "display_name": "Python 3 (ipykernel)",
   "language": "python",
   "name": "python3"
  },
  "language_info": {
   "codemirror_mode": {
    "name": "ipython",
    "version": 3
   },
   "file_extension": ".py",
   "mimetype": "text/x-python",
   "name": "python",
   "nbconvert_exporter": "python",
   "pygments_lexer": "ipython3",
   "version": "3.10.4"
  }
 },
 "nbformat": 4,
 "nbformat_minor": 5
}
