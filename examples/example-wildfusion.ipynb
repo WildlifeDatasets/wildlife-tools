{
 "cells": [
  {
   "cell_type": "code",
   "execution_count": 1,
   "id": "388bea78",
   "metadata": {},
   "outputs": [],
   "source": [
    "import pandas as pd\n",
    "import numpy as np\n",
    "import timm\n",
    "import torchvision.transforms as T\n",
    "\n",
    "from wildlife_tools.features import SuperPointExtractor, SiftExtractor, AlikedExtractor, DiskExtractor, DeepFeatures\n",
    "from wildlife_tools.similarity import CosineSimilarity, MatchLOFTR, MatchLightGlue\n",
    "from wildlife_tools.data.dataset import ImageDataset\n",
    "from wildlife_tools.similarity.wildfusion import SimilarityPipeline, WildFusion\n",
    "from wildlife_tools.similarity.calibration import IsotonicCalibration\n",
    "\n",
    "metadata = {'metadata':  pd.read_csv('../tests/TestDataset/metadata.csv'), 'root': '../tests/TestDataset'}\n",
    "transform = T.Compose([T.Resize([224, 224]), T.ToTensor()])\n",
    "dataset = ImageDataset(**metadata, transform=transform)\n"
   ]
  },
  {
   "cell_type": "markdown",
   "id": "ed3dbbae-a41c-40ee-8d57-4c5f276e338f",
   "metadata": {},
   "source": [
    "# WildFusion\n",
    "- Run wildfusion as mean of\n",
    "    - LightGlue + SuperPoint\n",
    "    - LightGlue + ALIKED\n",
    "    - LightGlue + DISK\n",
    "    - LightGlue + SIFT\n",
    "    - LOFTR\n",
    "    - Deep features of MegaDescriptor-L\n",
    "\n",
    "Additionally, shortlist is created using MegaDescriptor-L scores. It can be used to significantly speed up the matching pipelines by using only `B` samples from database per query, which are selected based on score in the shortlist."
   ]
  },
  {
   "cell_type": "code",
<<<<<<< HEAD
   "execution_count": 7,
=======
   "execution_count": null,
>>>>>>> main
   "id": "9510a38c",
   "metadata": {
    "scrolled": true
   },
<<<<<<< HEAD
   "outputs": [
    {
     "name": "stderr",
     "output_type": "stream",
     "text": [
      "INFO:timm.models._builder:Loading pretrained weights from Hugging Face hub (BVRA/wildlife-mega-L-384)\n",
      "/mnt/appl/software/timm/1.0.8-foss-2023b-CUDA-12.4.0/lib/python3.11/site-packages/timm/models/_hub.py:190: FutureWarning: You are using `torch.load` with `weights_only=False` (the current default value), which uses the default pickle module implicitly. It is possible to construct malicious pickle data which will execute arbitrary code during unpickling (See https://github.com/pytorch/pytorch/blob/main/SECURITY.md#untrusted-models for more details). In a future release, the default value for `weights_only` will be flipped to `True`. This limits the functions that could be executed during unpickling. Arbitrary objects will no longer be allowed to be loaded via this mode unless they are explicitly allowlisted by the user via `torch.serialization.add_safe_globals`. We recommend you start setting `weights_only=True` for any use case where you don't have full control of the loaded file. Please open an issue on GitHub for any issues related to this experimental feature.\n",
      "  return torch.load(cached_file, map_location='cpu')\n",
      "INFO:timm.models._builder:Loading pretrained weights from Hugging Face hub (BVRA/wildlife-mega-L-384)\n"
     ]
    }
   ],
=======
   "outputs": [],
>>>>>>> main
   "source": [
    "pipelines = [\n",
    "\n",
    "    SimilarityPipeline(\n",
    "        matcher = MatchLightGlue(features='superpoint'),\n",
    "        extractor = SuperPointExtractor(),\n",
    "        transform = T.Compose([\n",
    "            T.Resize([512, 512]),\n",
    "            T.ToTensor()\n",
    "        ]),\n",
    "        calibration = IsotonicCalibration()\n",
    "    ),\n",
    "\n",
    "    SimilarityPipeline(\n",
    "        matcher = MatchLightGlue(features='aliked'),\n",
    "        extractor = AlikedExtractor(),\n",
    "        transform = T.Compose([\n",
    "            T.Resize([512, 512]),\n",
    "            T.ToTensor()\n",
    "        ]),\n",
    "        calibration = IsotonicCalibration()\n",
    "    ),\n",
    "\n",
    "    SimilarityPipeline(\n",
    "        matcher = MatchLightGlue(features='disk'),\n",
    "        extractor = DiskExtractor(),\n",
    "        transform = T.Compose([\n",
    "            T.Resize([512, 512]),\n",
    "            T.ToTensor()\n",
    "        ]),\n",
    "        calibration = IsotonicCalibration()\n",
    "    ),\n",
    "\n",
    "    SimilarityPipeline(\n",
    "        matcher = MatchLightGlue(features='sift'),\n",
    "        extractor = SiftExtractor(),\n",
    "        transform = T.Compose([\n",
    "            T.Resize([512, 512]),\n",
    "            T.ToTensor()\n",
    "        ]),\n",
    "        calibration = IsotonicCalibration()\n",
    "    ),\n",
    "\n",
    "    SimilarityPipeline(\n",
    "        matcher = MatchLOFTR(pretrained='outdoor'),\n",
    "        extractor = None,\n",
    "        transform = T.Compose([\n",
    "            T.Resize([512, 512]),\n",
    "            T.Grayscale(),\n",
    "            T.ToTensor(),\n",
    "        ]),\n",
    "        calibration = IsotonicCalibration()\n",
    "    ),\n",
    "\n",
    "    SimilarityPipeline(\n",
    "        matcher = CosineSimilarity(),\n",
    "        extractor = DeepFeatures(\n",
    "            model = timm.create_model('hf-hub:BVRA/wildlife-mega-L-384', num_classes=0, pretrained=True)\n",
    "        ),\n",
    "        transform = T.Compose([\n",
    "            T.Resize(size=(384, 384)),\n",
    "            T.ToTensor(),\n",
    "            T.Normalize(mean=(0.485, 0.456, 0.406), std=(0.229, 0.224, 0.225)),\n",
    "        ]),\n",
    "        calibration = IsotonicCalibration()\n",
    "    ),\n",
    "]\n",
    "\n",
    "\n",
    "priority_pipeline =  SimilarityPipeline(\n",
    "    matcher = CosineSimilarity(),\n",
    "    extractor = DeepFeatures(\n",
    "        model = timm.create_model('hf-hub:BVRA/wildlife-mega-L-384', num_classes=0, pretrained=True)\n",
    "    ),\n",
    "    transform = T.Compose([\n",
    "        T.Resize(size=(384, 384)),\n",
    "        T.ToTensor(),\n",
    "        T.Normalize(mean=(0.485, 0.456, 0.406), std=(0.229, 0.224, 0.225)),\n",
    "    ]),\n",
    ")\n",
    "\n",
    "wildfusion = WildFusion(calibrated_pipelines = pipelines, priority_pipeline = priority_pipeline)"
   ]
  },
  {
   "cell_type": "code",
   "execution_count": 3,
   "id": "8586ae0a",
   "metadata": {},
   "outputs": [
    {
     "name": "stderr",
     "output_type": "stream",
     "text": [
<<<<<<< HEAD
      "100%|█████████████████████████████████████████████████████████████████| 4/4 [00:00<00:00,  6.24it/s]\n",
      "100%|█████████████████████████████████████████████████████████████████| 4/4 [00:00<00:00, 14.86it/s]\n",
      "100%|█████████████████████████████████████████████████████████████████| 1/1 [00:00<00:00,  8.72it/s]\n",
      "100%|█████████████████████████████████████████████████████████████████| 4/4 [00:00<00:00, 10.46it/s]\n",
      "100%|█████████████████████████████████████████████████████████████████| 4/4 [00:00<00:00, 14.00it/s]\n",
      "100%|█████████████████████████████████████████████████████████████████| 1/1 [00:00<00:00, 20.50it/s]\n",
      "100%|█████████████████████████████████████████████████████████████████| 4/4 [00:00<00:00, 14.72it/s]\n",
      "100%|█████████████████████████████████████████████████████████████████| 4/4 [00:00<00:00, 16.66it/s]\n",
      "100%|█████████████████████████████████████████████████████████████████| 1/1 [00:00<00:00, 28.35it/s]\n",
      "100%|█████████████████████████████████████████████████████████████████| 4/4 [00:00<00:00, 10.09it/s]\n",
      "100%|█████████████████████████████████████████████████████████████████| 4/4 [00:00<00:00,  8.88it/s]\n",
      "100%|█████████████████████████████████████████████████████████████████| 1/1 [00:00<00:00, 28.07it/s]\n",
      "100%|█████████████████████████████████████████████████████████████████| 1/1 [00:00<00:00,  1.64it/s]\n",
      "100%|█████████████████████████████████████████████████████████████████| 1/1 [00:13<00:00, 13.06s/it]\n",
      "100%|█████████████████████████████████████████████████████████████████| 1/1 [00:13<00:00, 13.02s/it]\n"
=======
      "100%|█████████████████████████████████████████████████████████████████| 3/3 [00:00<00:00,  4.06it/s]\n",
      "100%|█████████████████████████████████████████████████████████████████| 3/3 [00:00<00:00, 11.64it/s]\n",
      "100%|█████████████████████████████████████████████████████████████████| 1/1 [00:00<00:00,  8.39it/s]\n",
      "100%|█████████████████████████████████████████████████████████████████| 3/3 [00:00<00:00,  6.11it/s]\n",
      "100%|█████████████████████████████████████████████████████████████████| 3/3 [00:00<00:00, 10.44it/s]\n",
      "100%|█████████████████████████████████████████████████████████████████| 1/1 [00:00<00:00, 32.05it/s]\n",
      "100%|█████████████████████████████████████████████████████████████████| 3/3 [00:00<00:00,  8.16it/s]\n",
      "100%|█████████████████████████████████████████████████████████████████| 3/3 [00:00<00:00,  9.49it/s]\n",
      "100%|█████████████████████████████████████████████████████████████████| 1/1 [00:00<00:00, 44.09it/s]\n",
      "100%|█████████████████████████████████████████████████████████████████| 3/3 [00:00<00:00,  7.98it/s]\n",
      "100%|█████████████████████████████████████████████████████████████████| 3/3 [00:00<00:00,  7.55it/s]\n",
      "100%|█████████████████████████████████████████████████████████████████| 1/1 [00:00<00:00, 42.42it/s]\n",
      "100%|█████████████████████████████████████████████████████████████████| 1/1 [00:00<00:00,  1.48it/s]\n",
      "100%|█████████████████████████████████████████████████████████████████| 1/1 [00:14<00:00, 14.73s/it]\n",
      "100%|█████████████████████████████████████████████████████████████████| 1/1 [00:14<00:00, 14.69s/it]\n"
>>>>>>> main
     ]
    }
   ],
   "source": [
    "wildfusion.fit_calibration(dataset, dataset)"
   ]
  },
  {
   "cell_type": "markdown",
   "id": "8110bd8b-4e7c-4981-a077-f3ff5404b830",
   "metadata": {},
   "source": [
    "### Basic WildFusion\n",
    "- Run for all pairs\n",
    "- Note that there are ones at a diagonal at the query and database that are the same datasets."
   ]
  },
  {
   "cell_type": "code",
   "execution_count": 4,
   "id": "4d1b72b7",
   "metadata": {},
   "outputs": [
    {
     "name": "stderr",
     "output_type": "stream",
     "text": [
<<<<<<< HEAD
      "100%|█████████████████████████████████████████████████████████████████| 4/4 [00:00<00:00, 13.86it/s]\n",
      "100%|█████████████████████████████████████████████████████████████████| 4/4 [00:00<00:00, 16.73it/s]\n",
      "100%|█████████████████████████████████████████████████████████████████| 1/1 [00:00<00:00, 20.23it/s]\n",
      "100%|█████████████████████████████████████████████████████████████████| 4/4 [00:00<00:00, 15.23it/s]\n",
      "100%|█████████████████████████████████████████████████████████████████| 4/4 [00:00<00:00, 16.87it/s]\n",
      "100%|█████████████████████████████████████████████████████████████████| 1/1 [00:00<00:00, 19.43it/s]\n",
      "100%|█████████████████████████████████████████████████████████████████| 4/4 [00:00<00:00, 15.39it/s]\n",
      "100%|█████████████████████████████████████████████████████████████████| 4/4 [00:00<00:00, 15.89it/s]\n",
      "100%|█████████████████████████████████████████████████████████████████| 1/1 [00:00<00:00, 28.10it/s]\n",
      "100%|█████████████████████████████████████████████████████████████████| 4/4 [00:00<00:00, 10.72it/s]\n",
      "100%|█████████████████████████████████████████████████████████████████| 4/4 [00:00<00:00, 10.41it/s]\n",
      "100%|█████████████████████████████████████████████████████████████████| 1/1 [00:00<00:00, 27.99it/s]\n",
      "100%|█████████████████████████████████████████████████████████████████| 1/1 [00:00<00:00,  1.62it/s]\n",
      "100%|█████████████████████████████████████████████████████████████████| 1/1 [00:12<00:00, 12.97s/it]\n",
      "100%|█████████████████████████████████████████████████████████████████| 1/1 [00:12<00:00, 12.92s/it]\n"
=======
      "100%|█████████████████████████████████████████████████████████████████| 3/3 [00:00<00:00,  8.43it/s]\n",
      "100%|█████████████████████████████████████████████████████████████████| 3/3 [00:00<00:00,  9.78it/s]\n",
      "100%|█████████████████████████████████████████████████████████████████| 1/1 [00:00<00:00, 28.07it/s]\n",
      "100%|█████████████████████████████████████████████████████████████████| 3/3 [00:00<00:00,  9.76it/s]\n",
      "100%|█████████████████████████████████████████████████████████████████| 3/3 [00:00<00:00, 10.36it/s]\n",
      "100%|█████████████████████████████████████████████████████████████████| 1/1 [00:00<00:00, 26.57it/s]\n",
      "100%|█████████████████████████████████████████████████████████████████| 3/3 [00:00<00:00,  8.12it/s]\n",
      "100%|█████████████████████████████████████████████████████████████████| 3/3 [00:00<00:00,  9.56it/s]\n",
      "100%|█████████████████████████████████████████████████████████████████| 1/1 [00:00<00:00, 42.97it/s]\n",
      "100%|█████████████████████████████████████████████████████████████████| 3/3 [00:00<00:00,  5.75it/s]\n",
      "100%|█████████████████████████████████████████████████████████████████| 3/3 [00:00<00:00,  7.05it/s]\n",
      "100%|█████████████████████████████████████████████████████████████████| 1/1 [00:00<00:00, 43.76it/s]\n",
      "100%|█████████████████████████████████████████████████████████████████| 1/1 [00:00<00:00,  1.54it/s]\n",
      "100%|█████████████████████████████████████████████████████████████████| 1/1 [00:15<00:00, 15.08s/it]\n",
      "100%|█████████████████████████████████████████████████████████████████| 1/1 [00:14<00:00, 14.92s/it]\n"
>>>>>>> main
     ]
    },
    {
     "data": {
      "text/plain": [
       "array([[1.00000000e+00, 8.41624476e-01, 8.53761989e-02, 2.58286972e-03],\n",
       "       [8.45939177e-01, 1.00000000e+00, 2.93104603e-03, 1.28648551e-02],\n",
       "       [5.72058793e-02, 2.93104603e-03, 1.00000000e+00, 6.89334981e-01],\n",
       "       [3.01374998e-04, 1.28648551e-02, 6.97637682e-01, 1.00000000e+00]])"
      ]
     },
     "execution_count": 4,
     "metadata": {},
     "output_type": "execute_result"
    }
   ],
   "source": [
    "wildfusion(dataset, dataset)"
   ]
  },
  {
   "cell_type": "markdown",
   "id": "5a16eef6-8966-4628-9338-19c076d65783",
   "metadata": {},
   "source": [
    "### Accelerated WildFusion"
   ]
  },
  {
   "cell_type": "code",
   "execution_count": 5,
   "id": "75060d30",
   "metadata": {},
   "outputs": [
    {
     "name": "stderr",
     "output_type": "stream",
     "text": [
      "100%|█████████████████████████████████████████████████████████████████| 1/1 [00:12<00:00, 12.78s/it]\n",
      "100%|█████████████████████████████████████████████████████████████████| 1/1 [00:13<00:00, 13.06s/it]\n",
      "100%|█████████████████████████████████████████████████████████████████| 4/4 [00:00<00:00, 12.79it/s]\n",
      "100%|█████████████████████████████████████████████████████████████████| 4/4 [00:00<00:00, 14.07it/s]\n",
      "100%|█████████████████████████████████████████████████████████████████| 1/1 [00:00<00:00, 37.05it/s]\n",
      "100%|█████████████████████████████████████████████████████████████████| 4/4 [00:00<00:00, 12.82it/s]\n",
      "100%|█████████████████████████████████████████████████████████████████| 4/4 [00:00<00:00, 12.13it/s]\n",
      "100%|█████████████████████████████████████████████████████████████████| 1/1 [00:00<00:00, 44.40it/s]\n",
      "100%|█████████████████████████████████████████████████████████████████| 4/4 [00:00<00:00, 15.36it/s]\n",
      "100%|█████████████████████████████████████████████████████████████████| 4/4 [00:00<00:00, 15.80it/s]\n",
      "100%|█████████████████████████████████████████████████████████████████| 1/1 [00:00<00:00, 53.44it/s]\n",
      "100%|█████████████████████████████████████████████████████████████████| 4/4 [00:00<00:00,  9.42it/s]\n",
      "100%|█████████████████████████████████████████████████████████████████| 4/4 [00:00<00:00,  8.43it/s]\n",
      "100%|█████████████████████████████████████████████████████████████████| 1/1 [00:00<00:00, 49.12it/s]\n",
      "100%|█████████████████████████████████████████████████████████████████| 1/1 [00:00<00:00,  5.43it/s]\n",
      "100%|█████████████████████████████████████████████████████████████████| 1/1 [00:12<00:00, 12.88s/it]\n",
      "100%|█████████████████████████████████████████████████████████████████| 1/1 [00:12<00:00, 12.92s/it]\n"
     ]
    },
    {
     "data": {
      "text/plain": [
       "array([[  1., -inf, -inf, -inf],\n",
       "       [-inf,   1., -inf, -inf],\n",
       "       [-inf, -inf,   1., -inf],\n",
       "       [-inf, -inf, -inf,   1.]], dtype=float32)"
      ]
     },
     "execution_count": 5,
     "metadata": {},
     "output_type": "execute_result"
    }
   ],
   "source": [
    "wildfusion(dataset, dataset, B=1)"
   ]
  },
  {
   "cell_type": "code",
   "execution_count": 6,
   "id": "c8a2a3f6",
   "metadata": {},
   "outputs": [
    {
     "name": "stderr",
     "output_type": "stream",
     "text": [
      "100%|█████████████████████████████████████████████████████████████████| 1/1 [00:12<00:00, 12.98s/it]\n",
      "100%|█████████████████████████████████████████████████████████████████| 1/1 [00:12<00:00, 12.80s/it]\n",
      "100%|█████████████████████████████████████████████████████████████████| 4/4 [00:00<00:00, 11.46it/s]\n",
      "100%|█████████████████████████████████████████████████████████████████| 4/4 [00:00<00:00, 13.94it/s]\n",
      "100%|█████████████████████████████████████████████████████████████████| 1/1 [00:00<00:00, 34.92it/s]\n",
      "100%|█████████████████████████████████████████████████████████████████| 4/4 [00:00<00:00, 18.04it/s]\n",
      "100%|█████████████████████████████████████████████████████████████████| 4/4 [00:00<00:00, 15.17it/s]\n",
      "100%|█████████████████████████████████████████████████████████████████| 1/1 [00:00<00:00, 33.35it/s]\n",
      "100%|█████████████████████████████████████████████████████████████████| 4/4 [00:00<00:00, 12.49it/s]\n",
      "100%|█████████████████████████████████████████████████████████████████| 4/4 [00:00<00:00, 14.58it/s]\n",
      "100%|█████████████████████████████████████████████████████████████████| 1/1 [00:00<00:00, 40.92it/s]\n",
      "100%|█████████████████████████████████████████████████████████████████| 4/4 [00:00<00:00,  8.93it/s]\n",
      "100%|█████████████████████████████████████████████████████████████████| 4/4 [00:00<00:00,  8.94it/s]\n",
      "100%|█████████████████████████████████████████████████████████████████| 1/1 [00:00<00:00, 44.58it/s]\n",
      "100%|█████████████████████████████████████████████████████████████████| 1/1 [00:00<00:00,  3.13it/s]\n",
      "100%|█████████████████████████████████████████████████████████████████| 1/1 [00:12<00:00, 12.72s/it]\n",
      "100%|█████████████████████████████████████████████████████████████████| 1/1 [00:12<00:00, 12.89s/it]\n"
     ]
    },
    {
     "data": {
      "text/plain": [
       "array([[1.        , 0.84016925,       -inf,       -inf],\n",
       "       [0.85628253, 1.        ,       -inf,       -inf],\n",
       "       [      -inf,       -inf, 1.        , 0.68457514],\n",
       "       [      -inf,       -inf, 0.69002765, 1.        ]], dtype=float32)"
      ]
     },
     "execution_count": 6,
     "metadata": {},
     "output_type": "execute_result"
    }
   ],
   "source": [
    "wildfusion(dataset, dataset, B=2)"
   ]
  },
  {
   "cell_type": "code",
   "execution_count": null,
   "id": "19c996c9",
   "metadata": {},
   "outputs": [],
   "source": []
  },
  {
   "cell_type": "code",
   "execution_count": null,
   "id": "b106784e",
   "metadata": {},
   "outputs": [],
   "source": []
  }
 ],
 "metadata": {
  "kernelspec": {
   "display_name": "Python 3 (ipykernel)",
   "language": "python",
   "name": "python3"
  },
  "language_info": {
   "codemirror_mode": {
    "name": "ipython",
    "version": 3
   },
   "file_extension": ".py",
   "mimetype": "text/x-python",
   "name": "python",
   "nbconvert_exporter": "python",
   "pygments_lexer": "ipython3",
   "version": "3.11.5"
  }
 },
 "nbformat": 4,
 "nbformat_minor": 5
}
