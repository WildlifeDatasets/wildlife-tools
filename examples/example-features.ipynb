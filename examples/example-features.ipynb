{
 "cells": [
  {
   "cell_type": "code",
   "execution_count": 1,
   "id": "f4716800",
   "metadata": {},
   "outputs": [],
   "source": [
    "import pandas as pd\n",
    "import numpy as np\n",
    "import timm\n",
    "import torchvision.transforms as T\n",
    "\n",
    "from wildlife_tools.features import SuperPointExtractor, SiftExtractor, DiskExtractor, AlikedExtractor, DeepFeatures\n",
    "from wildlife_tools.data import ImageDataset\n",
    "\n",
    "metadata = {'metadata':  pd.read_csv('../tests/TestDataset/metadata.csv'), 'root': '../tests/TestDataset'}\n",
    "transform = T.Compose([T.Resize([224, 224]), T.ToTensor()])\n",
    "dataset = ImageDataset(**metadata, transform=transform)\n"
   ]
  },
  {
   "cell_type": "markdown",
   "id": "799b7ae7-619b-4ea2-a2cd-9e64c20ea58e",
   "metadata": {},
   "source": [
    "# Extract local features"
   ]
  },
  {
   "cell_type": "code",
   "execution_count": 10,
   "id": "78b04526",
   "metadata": {},
   "outputs": [
    {
     "name": "stderr",
     "output_type": "stream",
     "text": [
      "100%|█████████████████████████████████████████████████████████████████| 3/3 [00:00<00:00,  3.45it/s]\n"
     ]
    }
   ],
   "source": [
    "extractor = SiftExtractor()\n",
    "output = extractor(dataset)\n",
    "\n",
    "assert len(output) == len(dataset)\n",
    "assert tuple(output.features[0]['keypoints'].shape) == (256, 2)\n",
    "assert tuple(output.features[0]['descriptors'].shape) == (256, 128)"
   ]
  },
  {
   "cell_type": "code",
   "execution_count": 11,
   "id": "5f6bb73b",
   "metadata": {},
   "outputs": [
    {
     "name": "stderr",
     "output_type": "stream",
     "text": [
      "100%|█████████████████████████████████████████████████████████████████| 3/3 [00:00<00:00,  4.46it/s]\n"
     ]
    }
   ],
   "source": [
    "extractor = SuperPointExtractor()\n",
    "output = extractor(dataset)\n",
    "\n",
    "assert len(output) == len(dataset)\n",
    "assert tuple(output.features[0]['keypoints'].shape) == (256, 2)\n",
    "assert tuple(output.features[0]['descriptors'].shape) == (256, 256)"
   ]
  },
  {
   "cell_type": "code",
   "execution_count": 12,
   "id": "ff226994",
   "metadata": {},
   "outputs": [
    {
     "name": "stderr",
     "output_type": "stream",
     "text": [
      "100%|█████████████████████████████████████████████████████████████████| 3/3 [00:00<00:00,  5.84it/s]\n"
     ]
    }
   ],
   "source": [
    "extractor = AlikedExtractor()\n",
    "output = extractor(dataset)\n",
    "\n",
    "assert len(output) == len(dataset)\n",
    "assert tuple(output.features[0]['keypoints'].shape) == (256, 2)\n",
    "assert tuple(output.features[0]['descriptors'].shape) == (256, 128)"
   ]
  },
  {
   "cell_type": "code",
   "execution_count": 13,
   "id": "ac1e189e",
   "metadata": {},
   "outputs": [
    {
     "name": "stderr",
     "output_type": "stream",
     "text": [
      "100%|█████████████████████████████████████████████████████████████████| 3/3 [00:00<00:00, 11.04it/s]\n"
     ]
    }
   ],
   "source": [
    "extractor = DiskExtractor()\n",
    "output = extractor(dataset)\n",
    "\n",
    "assert len(output) == len(dataset)\n",
    "assert tuple(output.features[0]['keypoints'].shape) == (256, 2)\n",
    "assert tuple(output.features[0]['descriptors'].shape) == (256, 128)"
   ]
  },
  {
   "cell_type": "markdown",
   "id": "ed509956-c5cf-418c-a29a-78f043482bc7",
   "metadata": {},
   "source": [
    "# Extract deep features"
   ]
  },
  {
   "cell_type": "code",
   "execution_count": 15,
   "id": "8d9da74f",
   "metadata": {},
   "outputs": [
    {
     "name": "stderr",
     "output_type": "stream",
     "text": [
      "INFO:timm.models._builder:Loading pretrained weights from Hugging Face hub (BVRA/MegaDescriptor-T-224)\n",
      "100%|█████████████████████████████████████████████████████████████████| 1/1 [00:01<00:00,  1.13s/it]\n"
     ]
    }
   ],
   "source": [
    "backbone = timm.create_model('hf-hub:BVRA/MegaDescriptor-T-224', num_classes=0, pretrained=True)\n",
    "extractor = DeepFeatures(backbone)\n",
    "output = extractor(dataset)\n",
    "\n",
    "assert len(output) == len(dataset)\n",
    "assert tuple(output.features.shape) == (len(dataset), 768)"
   ]
  },
  {
   "cell_type": "code",
   "execution_count": null,
   "id": "81e9ac29",
   "metadata": {},
   "outputs": [],
   "source": []
  }
 ],
 "metadata": {
  "kernelspec": {
   "display_name": "Python 3 (ipykernel)",
   "language": "python",
   "name": "python3"
  },
  "language_info": {
   "codemirror_mode": {
    "name": "ipython",
    "version": 3
   },
   "file_extension": ".py",
   "mimetype": "text/x-python",
   "name": "python",
   "nbconvert_exporter": "python",
   "pygments_lexer": "ipython3",
   "version": "3.11.5"
  }
 },
 "nbformat": 4,
 "nbformat_minor": 5
}
